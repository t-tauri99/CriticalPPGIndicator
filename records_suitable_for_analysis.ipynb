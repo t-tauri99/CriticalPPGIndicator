{
 "cells": [
  {
   "cell_type": "code",
   "execution_count": null,
   "metadata": {
    "id": "ITx9id9LaOWE"
   },
   "outputs": [],
   "source": [
    "import sys\n",
    "from pathlib import Path"
   ]
  },
  {
   "cell_type": "code",
   "execution_count": null,
   "metadata": {
    "colab": {
     "base_uri": "https://localhost:8080/"
    },
    "id": "C-9HC7NTaZWq",
    "outputId": "01591ac3-7f13-46e1-e767-bcb7e95c1fe8"
   },
   "outputs": [
    {
     "name": "stdout",
     "output_type": "stream",
     "text": [
      "Looking in indexes: https://pypi.org/simple, https://us-python.pkg.dev/colab-wheels/public/simple/\n",
      "Collecting wfdb==4.0.0\n",
      "  Downloading wfdb-4.0.0-py3-none-any.whl (161 kB)\n",
      "\u001b[2K     \u001b[90m━━━━━━━━━━━━━━━━━━━━━━━━━━━━━━━━━━━━━━\u001b[0m \u001b[32m161.7/161.7 KB\u001b[0m \u001b[31m11.9 MB/s\u001b[0m eta \u001b[36m0:00:00\u001b[0m\n",
      "\u001b[?25hRequirement already satisfied: matplotlib<4.0.0,>=3.2.2 in /usr/local/lib/python3.8/dist-packages (from wfdb==4.0.0) (3.2.2)\n",
      "Requirement already satisfied: numpy<2.0.0,>=1.10.1 in /usr/local/lib/python3.8/dist-packages (from wfdb==4.0.0) (1.22.4)\n",
      "Collecting SoundFile<0.12.0,>=0.10.0\n",
      "  Downloading soundfile-0.11.0-py2.py3-none-any.whl (23 kB)\n",
      "Requirement already satisfied: scipy<2.0.0,>=1.0.0 in /usr/local/lib/python3.8/dist-packages (from wfdb==4.0.0) (1.7.3)\n",
      "Requirement already satisfied: pandas<2.0.0,>=1.0.0 in /usr/local/lib/python3.8/dist-packages (from wfdb==4.0.0) (1.3.5)\n",
      "Requirement already satisfied: requests<3.0.0,>=2.8.1 in /usr/local/lib/python3.8/dist-packages (from wfdb==4.0.0) (2.25.1)\n",
      "Requirement already satisfied: python-dateutil>=2.1 in /usr/local/lib/python3.8/dist-packages (from matplotlib<4.0.0,>=3.2.2->wfdb==4.0.0) (2.8.2)\n",
      "Requirement already satisfied: pyparsing!=2.0.4,!=2.1.2,!=2.1.6,>=2.0.1 in /usr/local/lib/python3.8/dist-packages (from matplotlib<4.0.0,>=3.2.2->wfdb==4.0.0) (3.0.9)\n",
      "Requirement already satisfied: cycler>=0.10 in /usr/local/lib/python3.8/dist-packages (from matplotlib<4.0.0,>=3.2.2->wfdb==4.0.0) (0.11.0)\n",
      "Requirement already satisfied: kiwisolver>=1.0.1 in /usr/local/lib/python3.8/dist-packages (from matplotlib<4.0.0,>=3.2.2->wfdb==4.0.0) (1.4.4)\n",
      "Requirement already satisfied: pytz>=2017.3 in /usr/local/lib/python3.8/dist-packages (from pandas<2.0.0,>=1.0.0->wfdb==4.0.0) (2022.7.1)\n",
      "Requirement already satisfied: idna<3,>=2.5 in /usr/local/lib/python3.8/dist-packages (from requests<3.0.0,>=2.8.1->wfdb==4.0.0) (2.10)\n",
      "Requirement already satisfied: certifi>=2017.4.17 in /usr/local/lib/python3.8/dist-packages (from requests<3.0.0,>=2.8.1->wfdb==4.0.0) (2022.12.7)\n",
      "Requirement already satisfied: chardet<5,>=3.0.2 in /usr/local/lib/python3.8/dist-packages (from requests<3.0.0,>=2.8.1->wfdb==4.0.0) (4.0.0)\n",
      "Requirement already satisfied: urllib3<1.27,>=1.21.1 in /usr/local/lib/python3.8/dist-packages (from requests<3.0.0,>=2.8.1->wfdb==4.0.0) (1.24.3)\n",
      "Requirement already satisfied: cffi>=1.0 in /usr/local/lib/python3.8/dist-packages (from SoundFile<0.12.0,>=0.10.0->wfdb==4.0.0) (1.15.1)\n",
      "Requirement already satisfied: pycparser in /usr/local/lib/python3.8/dist-packages (from cffi>=1.0->SoundFile<0.12.0,>=0.10.0->wfdb==4.0.0) (2.21)\n",
      "Requirement already satisfied: six>=1.5 in /usr/local/lib/python3.8/dist-packages (from python-dateutil>=2.1->matplotlib<4.0.0,>=3.2.2->wfdb==4.0.0) (1.15.0)\n",
      "Installing collected packages: SoundFile, wfdb\n",
      "  Attempting uninstall: SoundFile\n",
      "    Found existing installation: soundfile 0.12.1\n",
      "    Uninstalling soundfile-0.12.1:\n",
      "      Successfully uninstalled soundfile-0.12.1\n",
      "Successfully installed SoundFile-0.11.0 wfdb-4.0.0\n"
     ]
    }
   ],
   "source": [
    "!pip install wfdb==4.0.0\n",
    "import wfdb"
   ]
  },
  {
   "cell_type": "markdown",
   "metadata": {
    "id": "wXaGVNb5fP9D"
   },
   "source": [
    "Specify the name of the MIMIC Waveform Database"
   ]
  },
  {
   "cell_type": "code",
   "execution_count": null,
   "metadata": {
    "id": "3AsJ1GSiabcT"
   },
   "outputs": [],
   "source": [
    "database_name = 'mimic4wdb/0.1.0'"
   ]
  },
  {
   "cell_type": "markdown",
   "metadata": {
    "id": "9VRzmBvUfTrs"
   },
   "source": [
    "\n",
    "Identify the records in the database"
   ]
  },
  {
   "cell_type": "code",
   "execution_count": null,
   "metadata": {
    "colab": {
     "base_uri": "https://localhost:8080/"
    },
    "id": "7e_SUiFqafGD",
    "outputId": "24c25ef4-5ac2-468b-952d-8301ba8539a6"
   },
   "outputs": [
    {
     "name": "stdout",
     "output_type": "stream",
     "text": [
      "The 'mimic4wdb/0.1.0' database contains data from 198 subjects\n"
     ]
    }
   ],
   "source": [
    "# each subject may be associated with multiple records\n",
    "subjects = wfdb.get_record_list(database_name)\n",
    "print(f\"The '{database_name}' database contains data from {len(subjects)} subjects\")\n",
    "\n",
    "# set max number of records to load\n",
    "max_records_to_load = 200"
   ]
  },
  {
   "cell_type": "code",
   "execution_count": null,
   "metadata": {
    "colab": {
     "base_uri": "https://localhost:8080/"
    },
    "id": "P99xd8eVagnz",
    "outputId": "aa13ae32-19e4-4fa5-a3d4-83ae91e01ec7"
   },
   "outputs": [
    {
     "name": "stdout",
     "output_type": "stream",
     "text": [
      "Reached maximum required number of records.\n",
      "Loaded 200 records from the 'mimic4wdb/0.1.0' database.\n"
     ]
    }
   ],
   "source": [
    "# iterate the subjects to get a list of records\n",
    "records = []\n",
    "for subject in subjects:\n",
    "    studies = wfdb.get_record_list(f'{database_name}/{subject}')\n",
    "    for study in studies:\n",
    "        records.append(Path(f'{subject}{study}'))\n",
    "        # stop if we've loaded enough records\n",
    "        if len(records) >= max_records_to_load:\n",
    "            print(\"Reached maximum required number of records.\")\n",
    "            break\n",
    "\n",
    "print(f\"Loaded {len(records)} records from the '{database_name}' database.\")"
   ]
  },
  {
   "cell_type": "markdown",
   "metadata": {
    "id": "Xjn1ERICfWNq"
   },
   "source": [
    "We now look at the records"
   ]
  },
  {
   "cell_type": "code",
   "execution_count": null,
   "metadata": {
    "colab": {
     "base_uri": "https://localhost:8080/"
    },
    "id": "kU9kSqVSajxz",
    "outputId": "07819694-b7de-4c95-931f-e035e2f4cc70"
   },
   "outputs": [
    {
     "name": "stdout",
     "output_type": "stream",
     "text": [
      "First five records: \n",
      " - waves/p100/p10014354/81739927/81739927\n",
      " - waves/p100/p10019003/87033314/87033314\n",
      " - waves/p100/p10020306/83404654/83404654\n",
      " - waves/p100/p10039708/83411188/83411188\n",
      " - waves/p100/p10039708/85583557/85583557\n",
      "\n",
      "Note the formatting of these records:\n",
      " - intermediate directory ('p100' in this case)\n",
      " - subject identifier (e.g. 'p10014354')\n",
      " - record identifier (e.g. '81739927'\n",
      " \n"
     ]
    }
   ],
   "source": [
    "# format and print first five records\n",
    "first_five_records = [str(x) for x in records[0:5]]\n",
    "first_five_records = \"\\n - \".join(first_five_records)\n",
    "print(f\"First five records: \\n - {first_five_records}\")\n",
    "\n",
    "print(\"\"\"\n",
    "Note the formatting of these records:\n",
    " - intermediate directory ('p100' in this case)\n",
    " - subject identifier (e.g. 'p10014354')\n",
    " - record identifier (e.g. '81739927'\n",
    " \"\"\")"
   ]
  },
  {
   "cell_type": "markdown",
   "metadata": {
    "id": "f-drFyy4ffui"
   },
   "source": [
    "\n",
    "Extract metadata for a record"
   ]
  },
  {
   "cell_type": "markdown",
   "metadata": {
    "id": "NrlGpZIYfgpK"
   },
   "source": [
    "Each record contains metadata stored in a header file, named \"<record name>.hea\""
   ]
  },
  {
   "cell_type": "code",
   "execution_count": null,
   "metadata": {
    "colab": {
     "base_uri": "https://localhost:8080/"
    },
    "id": "xJc0KNtsaqB5",
    "outputId": "f0a09f73-bda5-442a-aaae-b8fd0b8bbc6d"
   },
   "outputs": [
    {
     "name": "stdout",
     "output_type": "stream",
     "text": [
      "PhysioNet directory specified for record: mimic4wdb/0.1.0/waves/p100/p10039708/83411188\n"
     ]
    }
   ],
   "source": [
    "# Specify the 4th record (note, in Python indexing begins at 0)\n",
    "idx = 3\n",
    "record = records[idx]\n",
    "record_dir = f'{database_name}/{record.parent}'\n",
    "print(\"PhysioNet directory specified for record: {}\".format(record_dir))"
   ]
  },
  {
   "cell_type": "markdown",
   "metadata": {
    "id": "i3AHnKZYftDD"
   },
   "source": [
    "Specify the subject identifier"
   ]
  },
  {
   "cell_type": "code",
   "execution_count": null,
   "metadata": {
    "colab": {
     "base_uri": "https://localhost:8080/"
    },
    "id": "iR0ut_TDasXZ",
    "outputId": "88e11b05-b432-4b27-a4dc-0dd10951c8b6"
   },
   "outputs": [
    {
     "name": "stdout",
     "output_type": "stream",
     "text": [
      "Record name: 83411188\n"
     ]
    }
   ],
   "source": [
    "\n",
    "record_name = record.name\n",
    "print(\"Record name: {}\".format(record_name))"
   ]
  },
  {
   "cell_type": "markdown",
   "metadata": {
    "id": "hgCVxFT4fwKK"
   },
   "source": [
    "\n",
    "Load the metadata for this record\n",
    "\n"
   ]
  },
  {
   "cell_type": "code",
   "execution_count": null,
   "metadata": {
    "colab": {
     "base_uri": "https://localhost:8080/"
    },
    "id": "SHNflqAMauDJ",
    "outputId": "37cde5c8-daf0-4347-e9e4-21edb57de91e"
   },
   "outputs": [
    {
     "name": "stdout",
     "output_type": "stream",
     "text": [
      "Done: metadata loaded for record '83411188' from the header file at:\n",
      "https://physionet.org/content/mimic4wdb/0.1.0/waves/p100/p10039708/83411188/83411188.hea\n"
     ]
    }
   ],
   "source": [
    "record_data = wfdb.rdheader(record_name, pn_dir=record_dir, rd_segments=True)\n",
    "remote_url = \"https://physionet.org/content/\" + record_dir + \"/\" + record_name + \".hea\"\n",
    "print(f\"Done: metadata loaded for record '{record_name}' from the header file at:\\n{remote_url}\")"
   ]
  },
  {
   "cell_type": "markdown",
   "metadata": {
    "id": "gXIEqpD5f1OS"
   },
   "source": [
    "**Inspect details of physiological signals recorded in this record**"
   ]
  },
  {
   "cell_type": "code",
   "execution_count": null,
   "metadata": {
    "colab": {
     "base_uri": "https://localhost:8080/"
    },
    "id": "dLsd20KlawKZ",
    "outputId": "2d941cf5-9799-4e2c-e528-36d724d371c7"
   },
   "outputs": [
    {
     "name": "stdout",
     "output_type": "stream",
     "text": [
      "- Number of signals: 6\n",
      "- Duration: 14.2 hours\n",
      "- Base sampling frequency: 62.4725 Hz\n"
     ]
    }
   ],
   "source": [
    "\n",
    "print(f\"- Number of signals: {record_data.n_sig}\".format())\n",
    "print(f\"- Duration: {record_data.sig_len/(record_data.fs*60*60):.1f} hours\") \n",
    "print(f\"- Base sampling frequency: {record_data.fs} Hz\")"
   ]
  },
  {
   "cell_type": "markdown",
   "metadata": {
    "id": "n_2I-JzHf_Ij"
   },
   "source": [
    "**Inspect the segments making up a record**"
   ]
  },
  {
   "cell_type": "code",
   "execution_count": null,
   "metadata": {
    "colab": {
     "base_uri": "https://localhost:8080/"
    },
    "id": "N_wFvonDa49-",
    "outputId": "4fee9d6f-6492-4306-ae20-a41f4963f102"
   },
   "outputs": [
    {
     "name": "stdout",
     "output_type": "stream",
     "text": [
      "The 6 segments from record 83411188 are:\n",
      "['83411188_0000', '83411188_0001', '83411188_0002', '83411188_0003', '83411188_0004', '83411188_0005']\n"
     ]
    }
   ],
   "source": [
    "\n",
    "segments = record_data.seg_name\n",
    "print(f\"The {len(segments)} segments from record {record_name} are:\\n{segments}\")"
   ]
  },
  {
   "cell_type": "markdown",
   "metadata": {
    "id": "AA-WudiJgH7T"
   },
   "source": [
    "**Inspect an individual segment**"
   ]
  },
  {
   "cell_type": "code",
   "execution_count": null,
   "metadata": {
    "colab": {
     "base_uri": "https://localhost:8080/"
    },
    "id": "fQY9PGtVa6qe",
    "outputId": "04a4d44b-1a82-4601-eb32-0a955d571a9d"
   },
   "outputs": [
    {
     "name": "stdout",
     "output_type": "stream",
     "text": [
      "Header metadata loaded for: \n",
      "  - the segment '83411188_0001'\n",
      "  - in record '83411188'\n",
      "  - for subject 'p10039708\n"
     ]
    }
   ],
   "source": [
    "\n",
    "segment_metadata = wfdb.rdheader(record_name=segments[2], pn_dir=record_dir)\n",
    "\n",
    "print(f\"\"\"Header metadata loaded for: \n",
    "  - the segment '{segments[1]}'\n",
    "  - in record '{record_name}'\n",
    "  - for subject '{str(Path(record_dir).parent.parts[-1])}\"\"\")"
   ]
  },
  {
   "cell_type": "markdown",
   "metadata": {
    "id": "5-3lZnH1gL2c"
   },
   "source": [
    "**Find out what signals are present**"
   ]
  },
  {
   "cell_type": "code",
   "execution_count": null,
   "metadata": {
    "colab": {
     "base_uri": "https://localhost:8080/"
    },
    "id": "KMq3f2CRa8Le",
    "outputId": "96a81dbd-424f-44ef-8a58-a9ed1937e83c"
   },
   "outputs": [
    {
     "name": "stdout",
     "output_type": "stream",
     "text": [
      "This segment contains the following signals: ['II', 'V', 'aVR', 'ABP', 'Pleth', 'Resp']\n",
      "The signals are measured in units of: ['mV', 'mV', 'mV', 'mmHg', 'NU', 'Ohm']\n"
     ]
    }
   ],
   "source": [
    "\n",
    "print(f\"This segment contains the following signals: {segment_metadata.sig_name}\")\n",
    "print(f\"The signals are measured in units of: {segment_metadata.units}\")"
   ]
  },
  {
   "cell_type": "markdown",
   "metadata": {
    "id": "nAkC9fRjgRN0"
   },
   "source": [
    "**Find out how long each signal lasts**"
   ]
  },
  {
   "cell_type": "code",
   "execution_count": null,
   "metadata": {
    "colab": {
     "base_uri": "https://localhost:8080/"
    },
    "id": "Z7OXrJL8bMvC",
    "outputId": "0777b309-a03d-4b26-b670-9199b3e408e7"
   },
   "outputs": [
    {
     "name": "stdout",
     "output_type": "stream",
     "text": [
      "The signals have a base sampling frequency of 62.5 Hz\n",
      "and they last for 0.9 minutes\n"
     ]
    }
   ],
   "source": [
    "\n",
    "print(f\"The signals have a base sampling frequency of {segment_metadata.fs:.1f} Hz\")\n",
    "print(f\"and they last for {segment_metadata.sig_len/(segment_metadata.fs*60):.1f} minutes\")"
   ]
  },
  {
   "cell_type": "markdown",
   "metadata": {
    "id": "EeBK4jWogVR7"
   },
   "source": [
    "**Identify records suitable for analysis**"
   ]
  },
  {
   "cell_type": "code",
   "execution_count": null,
   "metadata": {
    "id": "sRhrErunbT1S"
   },
   "outputs": [],
   "source": [
    "import pandas as pd\n",
    "from pprint import pprint"
   ]
  },
  {
   "cell_type": "code",
   "execution_count": null,
   "metadata": {
    "colab": {
     "base_uri": "https://localhost:8080/"
    },
    "id": "CVKB4ciDbVxF",
    "outputId": "0e18e1ea-5712-4d89-ce6c-91becdee24f6"
   },
   "outputs": [
    {
     "name": "stdout",
     "output_type": "stream",
     "text": [
      "Earlier, we loaded 200 records from the 'mimic4wdb/0.1.0' database.\n"
     ]
    }
   ],
   "source": [
    "\n",
    "print(f\"Earlier, we loaded {len(records)} records from the '{database_name}' database.\")"
   ]
  },
  {
   "cell_type": "markdown",
   "metadata": {
    "id": "1FXVvLwOgc5E"
   },
   "source": [
    "**Specify requirements**"
   ]
  },
  {
   "cell_type": "code",
   "execution_count": null,
   "metadata": {
    "id": "lurMtX3SbXTG"
   },
   "outputs": [],
   "source": [
    "\n",
    "required_sigs = ['ABP', 'Pleth']"
   ]
  },
  {
   "cell_type": "code",
   "execution_count": null,
   "metadata": {
    "id": "ikW7hrFwbZBl"
   },
   "outputs": [],
   "source": [
    "# convert from minutes to seconds\n",
    "req_seg_duration = 60 "
   ]
  },
  {
   "cell_type": "markdown",
   "metadata": {
    "id": "M8SRw_oLggHU"
   },
   "source": [
    "**Find out how many records meet the requirements**"
   ]
  },
  {
   "cell_type": "code",
   "execution_count": null,
   "metadata": {
    "colab": {
     "base_uri": "https://localhost:8080/"
    },
    "id": "zIRJYuJxbatF",
    "outputId": "447a8363-a149-4a3a-8afd-31f390bec38f"
   },
   "outputs": [
    {
     "name": "stdout",
     "output_type": "stream",
     "text": [
      "Record: waves/p100/p10014354/81739927/81739927 (reading data)\n",
      "   (missing signals)\n",
      "Record: waves/p100/p10019003/87033314/87033314 (reading data)\n",
      "   (missing signals)\n",
      "Record: waves/p100/p10020306/83404654/83404654 (reading data)\n",
      " - Segment: 83404654_0000 (too short at 0.0 mins)\n",
      " - Segment: 83404654_0001 (long enough, but missing signal(s))\n",
      " - Segment: 83404654_0002 (too short at 0.1 mins)\n",
      " - Segment: 83404654_0003 (too short at 0.3 mins)\n",
      " - Segment: 83404654_0004 (long enough, but missing signal(s))\n",
      " - Segment: 83404654_0005 (met requirements)\n",
      "Record: waves/p100/p10039708/83411188/83411188 (reading data)\n",
      " - Segment: 83411188_0000 (too short at 0.0 mins)\n",
      " - Segment: 83411188_0001 (too short at 0.1 mins)\n",
      " - Segment: 83411188_0002 (too short at 0.9 mins)\n",
      " - Segment: 83411188_0003 (too short at 0.3 mins)\n",
      " - Segment: 83411188_0004 (too short at 0.3 mins)\n",
      " - Segment: 83411188_0005 (long enough, but missing signal(s))\n",
      "Record: waves/p100/p10039708/85583557/85583557 (reading data)\n",
      "   (missing signals)\n",
      "Record: waves/p100/p10079700/85594648/85594648 (reading data)\n",
      "   (missing signals)\n",
      "Record: waves/p100/p10082591/84050536/84050536 (reading data)\n",
      "   (missing signals)\n",
      "Record: waves/p101/p10100546/83268087/83268087 (reading data)\n",
      "   (missing signals)\n",
      "Record: waves/p101/p10112163/88501826/88501826 (reading data)\n",
      "   (missing signals)\n",
      "Record: waves/p101/p10126957/82924339/82924339 (reading data)\n",
      " - Segment: 82924339_0000 (too short at 0.0 mins)\n",
      " - Segment: 82924339_0001 (too short at 0.2 mins)\n",
      " - Segment: 82924339_0002 (too short at 0.1 mins)\n",
      " - Segment: 82924339_0003 (too short at 0.4 mins)\n",
      " - Segment: 82924339_0004 (too short at 0.1 mins)\n",
      " - Segment: 82924339_0005 (too short at 0.0 mins)\n",
      " - Segment: 82924339_0006 (long enough, but missing signal(s))\n",
      " - Segment: 82924339_0007 (met requirements)\n",
      "Record: waves/p102/p10209410/84248019/84248019 (reading data)\n",
      " - Segment: 84248019_0000 (too short at 0.0 mins)\n",
      " - Segment: 84248019_0001 (too short at 0.1 mins)\n",
      " - Segment: 84248019_0002 (long enough, but missing signal(s))\n",
      " - Segment: 84248019_0003 (too short at 0.2 mins)\n",
      " - Segment: 84248019_0004 (met requirements)\n",
      "Record: waves/p103/p10303080/88399302/88399302 (reading data)\n",
      "   (missing signals)\n",
      "Record: waves/p104/p10494990/88374538/88374538 (reading data)\n",
      "   (missing signals)\n",
      "Record: waves/p105/p10560354/81105139/81105139 (reading data)\n",
      "   (missing signals)\n",
      "Record: waves/p106/p10680081/86426168/86426168 (reading data)\n",
      "   (missing signals)\n",
      "Record: waves/p108/p10882818/81826943/81826943 (reading data)\n",
      "   (missing signals)\n",
      "Record: waves/p109/p10952189/82439920/82439920 (reading data)\n",
      " - Segment: 82439920_0000 (too short at 0.0 mins)\n",
      " - Segment: 82439920_0001 (too short at 0.1 mins)\n",
      " - Segment: 82439920_0002 (too short at 0.0 mins)\n",
      " - Segment: 82439920_0003 (too short at 0.1 mins)\n",
      " - Segment: 82439920_0004 (met requirements)\n",
      "Record: waves/p110/p11013146/82432904/82432904 (reading data)\n",
      "   (missing signals)\n",
      "Record: waves/p111/p11109975/82800131/82800131 (reading data)\n",
      " - Segment: 82800131_0000 (too short at 0.0 mins)\n",
      " - Segment: 82800131_0001 (too short at 0.1 mins)\n",
      " - Segment: 82800131_0002 (met requirements)\n",
      "Record: waves/p113/p11320864/81312415/81312415 (reading data)\n",
      "   (missing signals)\n",
      "Record: waves/p113/p11392990/84304393/84304393 (reading data)\n",
      " - Segment: 84304393_0000 (too short at 0.0 mins)\n",
      " - Segment: 84304393_0001 (met requirements)\n",
      "Record: waves/p115/p11552552/82650378/82650378 (reading data)\n",
      "   (missing signals)\n",
      "Record: waves/p115/p11552552/88733244/88733244 (reading data)\n",
      "   (missing signals)\n",
      "Record: waves/p115/p11558369/88636340/88636340 (reading data)\n",
      "   (missing signals)\n",
      "Record: waves/p115/p11573811/87942784/87942784 (reading data)\n",
      "   (missing signals)\n",
      "Record: waves/p115/p11596691/86130599/86130599 (reading data)\n",
      "   (missing signals)\n",
      "Record: waves/p116/p11699665/81602645/81602645 (reading data)\n",
      "   (missing signals)\n",
      "Record: waves/p119/p11944882/88867862/88867862 (reading data)\n",
      " - Segment: 88867862_0000 (too short at 0.0 mins)\n",
      " - Segment: 88867862_0001 (long enough, but missing signal(s))\n",
      " - Segment: 88867862_0002 (too short at 0.6 mins)\n",
      " - Segment: 88867862_0003 (too short at 0.2 mins)\n",
      " - Segment: 88867862_0004 (long enough, but missing signal(s))\n",
      " - Segment: 88867862_0005 (long enough, but missing signal(s))\n",
      " - Segment: 88867862_0006 (long enough, but missing signal(s))\n",
      " - Segment: 88867862_0007 (long enough, but missing signal(s))\n",
      " - Segment: 88867862_0008 (too short at 0.3 mins)\n",
      " - Segment: 88867862_0009 (too short at 0.3 mins)\n",
      " - Segment: 88867862_0010 (long enough, but missing signal(s))\n",
      " - Segment: 88867862_0011 (long enough, but missing signal(s))\n",
      " - Segment: 88867862_0012 (too short at 0.2 mins)\n",
      " - Segment: 88867862_0013 (long enough, but missing signal(s))\n",
      " - Segment: 88867862_0014 (too short at 0.0 mins)\n",
      " - Segment: 88867862_0015 (too short at 0.1 mins)\n",
      " - Segment: 88867862_0016 (too short at 0.2 mins)\n",
      " - Segment: 88867862_0017 (too short at 0.0 mins)\n",
      " - Segment: 88867862_0018 (too short at 0.1 mins)\n",
      " - Segment: 88867862_0019 (too short at 0.1 mins)\n",
      " - Segment: 88867862_0020 (long enough, but missing signal(s))\n",
      " - Segment: 88867862_0021 (long enough, but missing signal(s))\n",
      " - Segment: 88867862_0022 (long enough, but missing signal(s))\n",
      " - Segment: 88867862_0023 (long enough, but missing signal(s))\n",
      " - Segment: 88867862_0024 (long enough, but missing signal(s))\n",
      " - Segment: 88867862_0025 (long enough, but missing signal(s))\n",
      " - Segment: 88867862_0026 (long enough, but missing signal(s))\n",
      " - Segment: 88867862_0027 (long enough, but missing signal(s))\n",
      " - Segment: 88867862_0028 (long enough, but missing signal(s))\n",
      " - Segment: 88867862_0029 (long enough, but missing signal(s))\n",
      " - Segment: 88867862_0030 (too short at 0.1 mins)\n",
      " - Segment: 88867862_0031 (long enough, but missing signal(s))\n",
      " - Segment: 88867862_0032 (too short at 0.8 mins)\n",
      " - Segment: 88867862_0033 (long enough, but missing signal(s))\n",
      " - Segment: 88867862_0034 (long enough, but missing signal(s))\n",
      " - Segment: 88867862_0035 (long enough, but missing signal(s))\n",
      " - Segment: 88867862_0036 (long enough, but missing signal(s))\n",
      " - Segment: 88867862_0037 (too short at 0.7 mins)\n",
      " - Segment: 88867862_0038 (long enough, but missing signal(s))\n",
      " - Segment: 88867862_0039 (long enough, but missing signal(s))\n",
      " - Segment: 88867862_0040 (long enough, but missing signal(s))\n",
      " - Segment: 88867862_0041 (long enough, but missing signal(s))\n",
      " - Segment: 88867862_0042 (long enough, but missing signal(s))\n",
      " - Segment: 88867862_0043 (long enough, but missing signal(s))\n",
      "Record: waves/p121/p12168037/89464742/89464742 (reading data)\n",
      " - Segment: 89464742_0000 (too short at 0.0 mins)\n",
      " - Segment: 89464742_0001 (met requirements)\n",
      "Record: waves/p121/p12173569/88958796/88958796 (reading data)\n",
      " - Segment: 88958796_0000 (too short at 0.0 mins)\n",
      " - Segment: 88958796_0001 (met requirements)\n",
      "Record: waves/p121/p12188288/88995377/88995377 (reading data)\n",
      " - Segment: 88995377_0000 (too short at 0.0 mins)\n",
      " - Segment: 88995377_0001 (met requirements)\n",
      "Record: waves/p122/p12226163/85982742/85982742 (reading data)\n",
      "   (missing signals)\n",
      "Record: waves/p122/p12246674/81515145/81515145 (reading data)\n",
      "   (missing signals)\n",
      "Record: waves/p122/p12290932/84513510/84513510 (reading data)\n",
      "   (missing signals)\n",
      "Record: waves/p122/p12295067/86906600/86906600 (reading data)\n",
      "   (missing signals)\n",
      "Record: waves/p124/p12408438/88826653/88826653 (reading data)\n",
      "   (missing signals)\n",
      "Record: waves/p124/p12424398/81741333/81741333 (reading data)\n",
      " - Segment: 81741333_0000 (too short at 0.0 mins)\n",
      " - Segment: 81741333_0001 (long enough, but missing signal(s))\n",
      " - Segment: 81741333_0002 (too short at 0.4 mins)\n",
      " - Segment: 81741333_0003 (long enough, but missing signal(s))\n",
      " - Segment: 81741333_0004 (too short at 0.4 mins)\n",
      " - Segment: 81741333_0005 (too short at 0.1 mins)\n",
      " - Segment: 81741333_0006 (long enough, but missing signal(s))\n",
      " - Segment: 81741333_0007 (long enough, but missing signal(s))\n",
      " - Segment: 81741333_0008 (too short at 0.1 mins)\n",
      " - Segment: 81741333_0009 (too short at 0.0 mins)\n",
      " - Segment: 81741333_0010 (long enough, but missing signal(s))\n",
      " - Segment: 81741333_0011 (too short at 0.1 mins)\n",
      " - Segment: 81741333_0012 (too short at 0.0 mins)\n",
      " - Segment: 81741333_0013 (too short at 0.0 mins)\n",
      " - Segment: 81741333_0014 (too short at 0.1 mins)\n",
      " - Segment: 81741333_0015 (long enough, but missing signal(s))\n",
      "Record: waves/p124/p12449182/84179115/84179115 (reading data)\n",
      "   (missing signals)\n",
      "Record: waves/p124/p12470697/84213440/84213440 (reading data)\n",
      "   (missing signals)\n",
      "Record: waves/p125/p12545470/80674263/80674263 (reading data)\n",
      "   (missing signals)\n",
      "Record: waves/p125/p12563752/85393521/85393521 (reading data)\n",
      "   (missing signals)\n",
      "Record: waves/p125/p12567919/82552643/82552643 (reading data)\n",
      "   (missing signals)\n",
      "Record: waves/p127/p12789108/85835247/85835247 (reading data)\n",
      "   (missing signals)\n",
      "Record: waves/p128/p12801061/80154334/80154334 (reading data)\n",
      "   (missing signals)\n",
      "Record: waves/p128/p12807320/81739815/81739815 (reading data)\n",
      "   (missing signals)\n",
      "Record: waves/p128/p12847457/83054955/83054955 (reading data)\n",
      "   (missing signals)\n",
      "Record: waves/p128/p12872596/85230771/85230771 (reading data)\n",
      " - Segment: 85230771_0000 (too short at 0.0 mins)\n",
      " - Segment: 85230771_0001 (too short at 0.1 mins)\n",
      " - Segment: 85230771_0002 (too short at 0.3 mins)\n",
      " - Segment: 85230771_0003 (too short at 0.1 mins)\n",
      " - Segment: 85230771_0004 (met requirements)\n",
      "Record: waves/p128/p12882754/84094519/84094519 (reading data)\n",
      "   (missing signals)\n",
      "Record: waves/p129/p12933208/86643930/86643930 (reading data)\n",
      " - Segment: 86643930_0000 (too short at 0.0 mins)\n",
      " - Segment: 86643930_0001 (long enough, but missing signal(s))\n",
      " - Segment: 86643930_0002 (too short at 0.1 mins)\n",
      " - Segment: 86643930_0003 (long enough, but missing signal(s))\n",
      " - Segment: 86643930_0004 (met requirements)\n",
      "Record: waves/p129/p12961799/86114120/86114120 (reading data)\n",
      "   (missing signals)\n",
      "Record: waves/p130/p13016481/81250824/81250824 (reading data)\n",
      " - Segment: 81250824_0000 (too short at 0.0 mins)\n",
      " - Segment: 81250824_0001 (long enough, but missing signal(s))\n",
      " - Segment: 81250824_0002 (too short at 0.1 mins)\n",
      " - Segment: 81250824_0003 (too short at 0.0 mins)\n",
      " - Segment: 81250824_0004 (long enough, but missing signal(s))\n",
      " - Segment: 81250824_0005 (met requirements)\n",
      "Record: waves/p130/p13080738/85361504/85361504 (reading data)\n",
      "   (missing signals)\n",
      "Record: waves/p130/p13090274/87473566/87473566 (reading data)\n",
      "   (missing signals)\n",
      "Record: waves/p131/p13184012/87023605/87023605 (reading data)\n",
      "   (missing signals)\n",
      "Record: waves/p132/p13208026/82342224/82342224 (reading data)\n",
      "   (missing signals)\n",
      "Record: waves/p132/p13216117/81815063/81815063 (reading data)\n",
      "   (missing signals)\n",
      "Record: waves/p132/p13240081/87706224/87706224 (reading data)\n",
      " - Segment: 87706224_0000 (too short at 0.0 mins)\n",
      " - Segment: 87706224_0001 (too short at 0.1 mins)\n",
      " - Segment: 87706224_0002 (met requirements)\n",
      "Record: waves/p133/p13335291/89017807/89017807 (reading data)\n",
      "   (missing signals)\n",
      "Record: waves/p133/p13364831/82697127/82697127 (reading data)\n",
      "   (missing signals)\n",
      "Record: waves/p133/p13386985/81002096/81002096 (reading data)\n",
      "   (missing signals)\n",
      "Record: waves/p134/p13457656/88841356/88841356 (reading data)\n",
      "   (missing signals)\n",
      "Record: waves/p134/p13496169/80200410/80200410 (reading data)\n",
      "   (missing signals)\n",
      "Record: waves/p135/p13559368/86957236/86957236 (reading data)\n",
      "   (missing signals)\n",
      "Record: waves/p136/p13620446/83988903/83988903 (reading data)\n",
      "   (missing signals)\n",
      "Record: waves/p136/p13624686/83058614/83058614 (reading data)\n",
      " - Segment: 83058614_0000 (too short at 0.0 mins)\n",
      " - Segment: 83058614_0001 (too short at 0.1 mins)\n",
      " - Segment: 83058614_0002 (too short at 0.1 mins)\n",
      " - Segment: 83058614_0003 (too short at 0.0 mins)\n",
      " - Segment: 83058614_0004 (too short at 0.0 mins)\n",
      " - Segment: 83058614_0005 (met requirements)\n",
      "Record: waves/p136/p13687171/82266835/82266835 (reading data)\n",
      "   (missing signals)\n",
      "Record: waves/p137/p13724605/81178488/81178488 (reading data)\n",
      "   (missing signals)\n",
      "Record: waves/p137/p13791821/82803505/82803505 (reading data)\n",
      " - Segment: 82803505_0000 (too short at 0.0 mins)\n",
      " - Segment: 82803505_0001 (too short at 0.1 mins)\n",
      " - Segment: 82803505_0002 (long enough, but missing signal(s))\n",
      " - Segment: 82803505_0003 (long enough, but missing signal(s))\n",
      " - Segment: 82803505_0004 (long enough, but missing signal(s))\n",
      " - Segment: 82803505_0005 (too short at 0.1 mins)\n",
      " - Segment: 82803505_0006 (long enough, but missing signal(s))\n",
      " - Segment: 82803505_0007 (long enough, but missing signal(s))\n",
      " - Segment: 82803505_0008 (long enough, but missing signal(s))\n",
      " - Segment: 82803505_0009 (too short at 0.2 mins)\n",
      " - Segment: 82803505_0010 (long enough, but missing signal(s))\n",
      " - Segment: 82803505_0011 (too short at 0.1 mins)\n",
      " - Segment: 82803505_0012 (long enough, but missing signal(s))\n",
      " - Segment: 82803505_0013 (too short at 0.2 mins)\n",
      " - Segment: 82803505_0014 (long enough, but missing signal(s))\n",
      " - Segment: 82803505_0015 (long enough, but missing signal(s))\n",
      " - Segment: 82803505_0016 (long enough, but missing signal(s))\n",
      " - Segment: 82803505_0017 (met requirements)\n",
      "Record: waves/p138/p13840756/85241465/85241465 (reading data)\n",
      "   (missing signals)\n",
      "Record: waves/p139/p13909615/85874778/85874778 (reading data)\n",
      "   (missing signals)\n",
      "Record: waves/p140/p14025287/86429079/86429079 (reading data)\n",
      "   (missing signals)\n",
      "Record: waves/p140/p14043090/80351079/80351079 (reading data)\n",
      "   (missing signals)\n",
      "Record: waves/p140/p14057060/81396664/81396664 (reading data)\n",
      "   (missing signals)\n",
      "Record: waves/p140/p14071752/87613677/87613677 (reading data)\n",
      "   (missing signals)\n",
      "Record: waves/p141/p14141512/85863370/85863370 (reading data)\n",
      "   (missing signals)\n",
      "Record: waves/p141/p14191565/88574629/88574629 (reading data)\n",
      " - Segment: 88574629_0000 (too short at 0.0 mins)\n",
      " - Segment: 88574629_0001 (met requirements)\n",
      "Record: waves/p142/p14260018/80493349/80493349 (reading data)\n",
      "   (missing signals)\n",
      "Record: waves/p142/p14285792/87867111/87867111 (reading data)\n",
      " - Segment: 87867111_0000 (too short at 0.0 mins)\n",
      " - Segment: 87867111_0001 (long enough, but missing signal(s))\n",
      " - Segment: 87867111_0002 (too short at 0.1 mins)\n",
      " - Segment: 87867111_0003 (long enough, but missing signal(s))\n",
      " - Segment: 87867111_0004 (long enough, but missing signal(s))\n",
      " - Segment: 87867111_0005 (long enough, but missing signal(s))\n",
      " - Segment: 87867111_0006 (too short at 0.5 mins)\n",
      " - Segment: 87867111_0007 (long enough, but missing signal(s))\n",
      " - Segment: 87867111_0008 (long enough, but missing signal(s))\n",
      " - Segment: 87867111_0009 (long enough, but missing signal(s))\n",
      " - Segment: 87867111_0010 (too short at 0.1 mins)\n",
      " - Segment: 87867111_0011 (long enough, but missing signal(s))\n",
      " - Segment: 87867111_0012 (met requirements)\n",
      "Record: waves/p143/p14328567/80030009/80030009 (reading data)\n",
      "   (missing signals)\n",
      "Record: waves/p143/p14356077/84560969/84560969 (reading data)\n",
      " - Segment: 84560969_0000 (too short at 0.0 mins)\n",
      " - Segment: 84560969_0001 (met requirements)\n",
      "Record: waves/p143/p14363499/87562386/87562386 (reading data)\n",
      " - Segment: 87562386_0000 (too short at 0.0 mins)\n",
      " - Segment: 87562386_0001 (met requirements)\n",
      "Record: waves/p145/p14504374/89909100/89909100 (reading data)\n",
      "   (missing signals)\n",
      "Record: waves/p145/p14573205/83993183/83993183 (reading data)\n",
      "   (missing signals)\n",
      "Record: waves/p146/p14629329/89923227/89923227 (reading data)\n",
      "   (missing signals)\n",
      "Record: waves/p146/p14678292/82257762/82257762 (reading data)\n",
      "   (missing signals)\n",
      "Record: waves/p146/p14695840/88685937/88685937 (reading data)\n",
      " - Segment: 88685937_0000 (too short at 0.0 mins)\n",
      " - Segment: 88685937_0001 (met requirements)\n",
      "Record: waves/p147/p14711488/80647461/80647461 (reading data)\n",
      "   (missing signals)\n",
      "Record: waves/p147/p14739057/86201081/86201081 (reading data)\n",
      "   (missing signals)\n",
      "Record: waves/p147/p14751132/87909383/87909383 (reading data)\n",
      "   (missing signals)\n",
      "Record: waves/p147/p14759494/87555605/87555605 (reading data)\n",
      "   (missing signals)\n",
      "Record: waves/p147/p14781701/80705205/80705205 (reading data)\n",
      "   (missing signals)\n",
      "Record: waves/p147/p14782379/83682560/83682560 (reading data)\n",
      "   (missing signals)\n",
      "Record: waves/p148/p14811560/88188377/88188377 (reading data)\n",
      "   (missing signals)\n",
      "Record: waves/p149/p14931547/86120311/86120311 (reading data)\n",
      " - Segment: 86120311_0000 (too short at 0.0 mins)\n",
      " - Segment: 86120311_0001 (met requirements)\n",
      "Record: waves/p150/p15030787/82582002/82582002 (reading data)\n",
      "   (missing signals)\n",
      "Record: waves/p151/p15174162/89866183/89866183 (reading data)\n",
      " - Segment: 89866183_0000 (too short at 0.0 mins)\n",
      " - Segment: 89866183_0001 (too short at 0.2 mins)\n",
      " - Segment: 89866183_0002 (too short at 0.1 mins)\n",
      " - Segment: 89866183_0003 (too short at 0.0 mins)\n",
      " - Segment: 89866183_0004 (met requirements)\n",
      "Record: waves/p153/p15312343/89068160/89068160 (reading data)\n",
      " - Segment: 89068160_0000 (too short at 0.0 mins)\n",
      " - Segment: 89068160_0001 (met requirements)\n",
      "Record: waves/p153/p15315368/83076714/83076714 (reading data)\n",
      "   (missing signals)\n",
      "Record: waves/p153/p15342703/86380383/86380383 (reading data)\n",
      " - Segment: 86380383_0000 (too short at 0.0 mins)\n",
      " - Segment: 86380383_0001 (met requirements)\n",
      "Record: waves/p154/p15450741/80222656/80222656 (reading data)\n",
      "   (missing signals)\n",
      "Record: waves/p154/p15461634/89565005/89565005 (reading data)\n",
      "   (missing signals)\n",
      "Record: waves/p154/p15465960/87710197/87710197 (reading data)\n",
      "   (missing signals)\n",
      "Record: waves/p154/p15497782/80353107/80353107 (reading data)\n",
      "   (missing signals)\n",
      "Record: waves/p155/p15524470/80713046/80713046 (reading data)\n",
      "   (missing signals)\n",
      "Record: waves/p155/p15552902/85078610/85078610 (reading data)\n",
      " - Segment: 85078610_0000 (too short at 0.0 mins)\n",
      " - Segment: 85078610_0001 (too short at 0.1 mins)\n",
      " - Segment: 85078610_0002 (too short at 0.1 mins)\n",
      " - Segment: 85078610_0003 (too short at 0.0 mins)\n",
      " - Segment: 85078610_0004 (met requirements)\n",
      "Record: waves/p156/p15649186/87702634/87702634 (reading data)\n",
      " - Segment: 87702634_0000 (too short at 0.0 mins)\n",
      " - Segment: 87702634_0001 (too short at 0.1 mins)\n",
      " - Segment: 87702634_0002 (too short at 0.1 mins)\n",
      " - Segment: 87702634_0003 (too short at 0.9 mins)\n",
      " - Segment: 87702634_0004 (too short at 0.1 mins)\n",
      " - Segment: 87702634_0005 (met requirements)\n",
      "Record: waves/p156/p15651262/87121214/87121214 (reading data)\n",
      "   (missing signals)\n",
      "Record: waves/p156/p15685201/83226324/83226324 (reading data)\n",
      "   (missing signals)\n",
      "Record: waves/p157/p15738617/84323120/84323120 (reading data)\n",
      "   (missing signals)\n",
      "Record: waves/p158/p15855446/80620046/80620046 (reading data)\n",
      "   (missing signals)\n",
      "Record: waves/p158/p15857793/84686667/84686667 (reading data)\n",
      " - Segment: 84686667_0000 (too short at 0.0 mins)\n",
      " - Segment: 84686667_0001 (met requirements)\n",
      "Record: waves/p158/p15858229/85931717/85931717 (reading data)\n",
      "   (missing signals)\n",
      "Record: waves/p158/p15859796/87162659/87162659 (reading data)\n",
      "   (missing signals)\n",
      "Record: waves/p158/p15865327/84802706/84802706 (reading data)\n",
      " - Segment: 84802706_0000 (too short at 0.0 mins)\n",
      " - Segment: 84802706_0001 (too short at 0.0 mins)\n",
      " - Segment: 84802706_0002 (met requirements)\n",
      "Record: waves/p158/p15896656/81811182/81811182 (reading data)\n",
      " - Segment: 81811182_0000 (too short at 0.0 mins)\n",
      " - Segment: 81811182_0001 (too short at 0.1 mins)\n",
      " - Segment: 81811182_0002 (too short at 0.0 mins)\n",
      " - Segment: 81811182_0003 (too short at 0.1 mins)\n",
      " - Segment: 81811182_0004 (met requirements)\n",
      "Record: waves/p159/p15920699/84421559/84421559 (reading data)\n",
      " - Segment: 84421559_0000 (too short at 0.0 mins)\n",
      " - Segment: 84421559_0001 (met requirements)\n",
      "Record: waves/p160/p16034243/88221516/88221516 (reading data)\n",
      " - Segment: 88221516_0000 (too short at 0.0 mins)\n",
      " - Segment: 88221516_0001 (long enough, but missing signal(s))\n",
      " - Segment: 88221516_0002 (too short at 0.0 mins)\n",
      " - Segment: 88221516_0003 (too short at 0.1 mins)\n",
      " - Segment: 88221516_0004 (long enough, but missing signal(s))\n",
      " - Segment: 88221516_0005 (too short at 0.3 mins)\n",
      " - Segment: 88221516_0006 (met requirements)\n",
      "Record: waves/p160/p16074364/84765423/84765423 (reading data)\n",
      "   (missing signals)\n",
      "Record: waves/p160/p16089661/87257193/87257193 (reading data)\n",
      "   (missing signals)\n",
      "Record: waves/p160/p16096029/87730914/87730914 (reading data)\n",
      "   (missing signals)\n",
      "Record: waves/p162/p16215869/89184684/89184684 (reading data)\n",
      "   (missing signals)\n",
      "Record: waves/p162/p16224237/84746493/84746493 (reading data)\n",
      "   (missing signals)\n",
      "Record: waves/p163/p16331109/85937857/85937857 (reading data)\n",
      "   (missing signals)\n",
      "Record: waves/p163/p16362820/85250800/85250800 (reading data)\n",
      "   (missing signals)\n",
      "Record: waves/p164/p16442963/89328952/89328952 (reading data)\n",
      "   (missing signals)\n",
      "Record: waves/p164/p16450343/87509018/87509018 (reading data)\n",
      "   (missing signals)\n",
      "Record: waves/p165/p16547220/81902403/81902403 (reading data)\n",
      "   (missing signals)\n",
      "Record: waves/p165/p16566444/80057524/80057524 (reading data)\n",
      " - Segment: 80057524_0000 (too short at 0.0 mins)\n",
      " - Segment: 80057524_0001 (long enough, but missing signal(s))\n",
      " - Segment: 80057524_0002 (too short at 0.6 mins)\n",
      " - Segment: 80057524_0003 (long enough, but missing signal(s))\n",
      " - Segment: 80057524_0004 (too short at 0.7 mins)\n",
      " - Segment: 80057524_0005 (met requirements)\n",
      "Record: waves/p165/p16587972/86803944/86803944 (reading data)\n",
      "   (missing signals)\n",
      "Record: waves/p166/p16601928/88159741/88159741 (reading data)\n",
      "   (missing signals)\n",
      "Record: waves/p166/p16644640/84209926/84209926 (reading data)\n",
      " - Segment: 84209926_0000 (too short at 0.0 mins)\n",
      " - Segment: 84209926_0001 (too short at 0.5 mins)\n",
      " - Segment: 84209926_0002 (too short at 0.2 mins)\n",
      " - Segment: 84209926_0003 (too short at 0.0 mins)\n",
      " - Segment: 84209926_0004 (too short at 0.1 mins)\n",
      " - Segment: 84209926_0005 (too short at 0.1 mins)\n",
      " - Segment: 84209926_0006 (too short at 0.0 mins)\n",
      " - Segment: 84209926_0007 (too short at 0.9 mins)\n",
      " - Segment: 84209926_0008 (long enough, but missing signal(s))\n",
      " - Segment: 84209926_0009 (too short at 0.3 mins)\n",
      " - Segment: 84209926_0010 (long enough, but missing signal(s))\n",
      " - Segment: 84209926_0011 (too short at 0.1 mins)\n",
      " - Segment: 84209926_0012 (too short at 0.0 mins)\n",
      " - Segment: 84209926_0013 (too short at 0.0 mins)\n",
      " - Segment: 84209926_0014 (too short at 0.1 mins)\n",
      " - Segment: 84209926_0015 (long enough, but missing signal(s))\n",
      " - Segment: 84209926_0016 (long enough, but missing signal(s))\n",
      " - Segment: 84209926_0017 (long enough, but missing signal(s))\n",
      " - Segment: 84209926_0018 (met requirements)\n",
      "Record: waves/p166/p16645935/86666275/86666275 (reading data)\n",
      "   (missing signals)\n",
      "Record: waves/p166/p16662288/83394240/83394240 (reading data)\n",
      "   (missing signals)\n",
      "Record: waves/p166/p16683551/83349747/83349747 (reading data)\n",
      "   (missing signals)\n",
      "Record: waves/p167/p16709726/83959636/83959636 (reading data)\n",
      " - Segment: 83959636_0000 (too short at 0.0 mins)\n",
      " - Segment: 83959636_0001 (too short at 0.0 mins)\n",
      " - Segment: 83959636_0002 (too short at 0.1 mins)\n",
      " - Segment: 83959636_0003 (met requirements)\n",
      "Record: waves/p167/p16715341/89989722/89989722 (reading data)\n",
      " - Segment: 89989722_0000 (too short at 0.0 mins)\n",
      " - Segment: 89989722_0001 (too short at 0.1 mins)\n",
      " - Segment: 89989722_0002 (long enough, but missing signal(s))\n",
      " - Segment: 89989722_0003 (long enough, but missing signal(s))\n",
      " - Segment: 89989722_0004 (long enough, but missing signal(s))\n",
      " - Segment: 89989722_0005 (too short at 0.9 mins)\n",
      " - Segment: 89989722_0006 (long enough, but missing signal(s))\n",
      " - Segment: 89989722_0007 (too short at 0.3 mins)\n",
      " - Segment: 89989722_0008 (too short at 0.5 mins)\n",
      " - Segment: 89989722_0009 (met requirements)\n",
      "Record: waves/p168/p16818396/89225487/89225487 (reading data)\n",
      " - Segment: 89225487_0000 (too short at 0.0 mins)\n",
      " - Segment: 89225487_0001 (too short at 0.1 mins)\n",
      " - Segment: 89225487_0002 (long enough, but missing signal(s))\n",
      " - Segment: 89225487_0003 (too short at 0.1 mins)\n",
      " - Segment: 89225487_0004 (too short at 0.1 mins)\n",
      " - Segment: 89225487_0005 (too short at 0.4 mins)\n",
      " - Segment: 89225487_0006 (too short at 0.1 mins)\n",
      " - Segment: 89225487_0007 (met requirements)\n",
      "Record: waves/p168/p16820602/82493254/82493254 (reading data)\n",
      "   (missing signals)\n",
      "Record: waves/p168/p16846280/83877081/83877081 (reading data)\n",
      "   (missing signals)\n",
      "Record: waves/p168/p16848565/84917468/84917468 (reading data)\n",
      "   (missing signals)\n",
      "Record: waves/p169/p16949991/88967754/88967754 (reading data)\n",
      "   (missing signals)\n",
      "Record: waves/p169/p16955095/82284982/82284982 (reading data)\n",
      "   (missing signals)\n",
      "Record: waves/p169/p16971339/87311151/87311151 (reading data)\n",
      "   (missing signals)\n",
      "Record: waves/p170/p17032851/84391267/84391267 (reading data)\n",
      " - Segment: 84391267_0000 (too short at 0.0 mins)\n",
      " - Segment: 84391267_0001 (met requirements)\n",
      "Record: waves/p171/p17107892/83439223/83439223 (reading data)\n",
      "   (missing signals)\n",
      "Record: waves/p172/p17229504/80889556/80889556 (reading data)\n",
      " - Segment: 80889556_0000 (too short at 0.0 mins)\n",
      " - Segment: 80889556_0001 (too short at 0.6 mins)\n",
      " - Segment: 80889556_0002 (met requirements)\n",
      "Record: waves/p173/p17301721/85250558/85250558 (reading data)\n",
      " - Segment: 85250558_0000 (too short at 0.0 mins)\n",
      " - Segment: 85250558_0001 (met requirements)\n",
      "Record: waves/p173/p17325001/84567505/84567505 (reading data)\n",
      " - Segment: 84567505_0000 (too short at 0.0 mins)\n",
      " - Segment: 84567505_0001 (too short at 0.2 mins)\n",
      " - Segment: 84567505_0002 (too short at 0.1 mins)\n",
      " - Segment: 84567505_0003 (too short at 0.0 mins)\n",
      " - Segment: 84567505_0004 (too short at 0.4 mins)\n",
      " - Segment: 84567505_0005 (met requirements)\n",
      "Record: waves/p174/p17413562/88976763/88976763 (reading data)\n",
      "   (missing signals)\n",
      "Record: waves/p174/p17459141/80111237/80111237 (reading data)\n",
      "   (missing signals)\n",
      "Record: waves/p174/p17488284/84486962/84486962 (reading data)\n",
      " - Segment: 84486962_0000 (too short at 0.0 mins)\n",
      " - Segment: 84486962_0001 (long enough, but missing signal(s))\n",
      " - Segment: 84486962_0002 (too short at 0.5 mins)\n",
      " - Segment: 84486962_0003 (too short at 0.2 mins)\n",
      " - Segment: 84486962_0004 (too short at 0.0 mins)\n",
      " - Segment: 84486962_0005 (too short at 0.1 mins)\n",
      " - Segment: 84486962_0006 (too short at 0.4 mins)\n",
      " - Segment: 84486962_0007 (too short at 0.3 mins)\n",
      " - Segment: 84486962_0008 (too short at 0.5 mins)\n",
      " - Segment: 84486962_0009 (long enough, but missing signal(s))\n",
      " - Segment: 84486962_0010 (long enough, but missing signal(s))\n",
      " - Segment: 84486962_0011 (long enough, but missing signal(s))\n",
      " - Segment: 84486962_0012 (long enough, but missing signal(s))\n",
      " - Segment: 84486962_0013 (long enough, but missing signal(s))\n",
      " - Segment: 84486962_0014 (long enough, but missing signal(s))\n",
      " - Segment: 84486962_0015 (too short at 0.1 mins)\n",
      " - Segment: 84486962_0016 (too short at 0.2 mins)\n",
      " - Segment: 84486962_0017 (long enough, but missing signal(s))\n",
      " - Segment: 84486962_0018 (long enough, but missing signal(s))\n",
      " - Segment: 84486962_0019 (long enough, but missing signal(s))\n",
      " - Segment: 84486962_0020 (long enough, but missing signal(s))\n",
      " - Segment: 84486962_0021 (long enough, but missing signal(s))\n",
      " - Segment: 84486962_0022 (too short at 0.2 mins)\n",
      " - Segment: 84486962_0023 (long enough, but missing signal(s))\n",
      " - Segment: 84486962_0024 (too short at 0.1 mins)\n",
      " - Segment: 84486962_0025 (long enough, but missing signal(s))\n",
      " - Segment: 84486962_0026 (long enough, but missing signal(s))\n",
      " - Segment: 84486962_0027 (long enough, but missing signal(s))\n",
      " - Segment: 84486962_0028 (too short at 0.1 mins)\n",
      " - Segment: 84486962_0029 (too short at 0.9 mins)\n",
      " - Segment: 84486962_0030 (long enough, but missing signal(s))\n",
      " - Segment: 84486962_0031 (long enough, but missing signal(s))\n",
      " - Segment: 84486962_0032 (long enough, but missing signal(s))\n",
      " - Segment: 84486962_0033 (long enough, but missing signal(s))\n",
      "Record: waves/p174/p17490822/85814172/85814172 (reading data)\n",
      " - Segment: 85814172_0000 (too short at 0.0 mins)\n",
      " - Segment: 85814172_0001 (long enough, but missing signal(s))\n",
      " - Segment: 85814172_0002 (too short at 0.4 mins)\n",
      " - Segment: 85814172_0003 (long enough, but missing signal(s))\n",
      " - Segment: 85814172_0004 (long enough, but missing signal(s))\n",
      " - Segment: 85814172_0005 (too short at 0.4 mins)\n",
      " - Segment: 85814172_0006 (long enough, but missing signal(s))\n",
      " - Segment: 85814172_0007 (met requirements)\n",
      "Record: waves/p175/p17549883/88582885/88582885 (reading data)\n",
      "   (missing signals)\n",
      "Record: waves/p175/p17578102/83863589/83863589 (reading data)\n",
      "   (missing signals)\n",
      "Record: waves/p177/p17701063/88788921/88788921 (reading data)\n",
      "   (missing signals)\n",
      "Record: waves/p177/p17708869/84580526/84580526 (reading data)\n",
      "   (missing signals)\n",
      "Record: waves/p177/p17738824/88884866/88884866 (reading data)\n",
      " - Segment: 88884866_0000 (too short at 0.0 mins)\n",
      " - Segment: 88884866_0001 (long enough, but missing signal(s))\n",
      " - Segment: 88884866_0002 (too short at 0.0 mins)\n",
      " - Segment: 88884866_0003 (too short at 0.1 mins)\n",
      " - Segment: 88884866_0004 (long enough, but missing signal(s))\n",
      " - Segment: 88884866_0005 (met requirements)\n",
      "Record: waves/p177/p17744715/80497954/80497954 (reading data)\n",
      " - Segment: 80497954_0000 (too short at 0.0 mins)\n",
      " - Segment: 80497954_0001 (too short at 0.5 mins)\n",
      " - Segment: 80497954_0002 (too short at 0.1 mins)\n",
      " - Segment: 80497954_0003 (too short at 0.0 mins)\n",
      " - Segment: 80497954_0004 (too short at 0.5 mins)\n",
      " - Segment: 80497954_0005 (too short at 0.1 mins)\n",
      " - Segment: 80497954_0006 (too short at 0.0 mins)\n",
      " - Segment: 80497954_0007 (too short at 0.3 mins)\n",
      " - Segment: 80497954_0008 (too short at 0.1 mins)\n",
      " - Segment: 80497954_0009 (too short at 0.0 mins)\n",
      " - Segment: 80497954_0010 (met requirements)\n",
      "Record: waves/p178/p17802132/86917206/86917206 (reading data)\n",
      "   (missing signals)\n",
      "Record: waves/p178/p17818849/84786832/84786832 (reading data)\n",
      "   (missing signals)\n",
      "Record: waves/p179/p17957832/80666640/80666640 (reading data)\n",
      " - Segment: 80666640_0000 (too short at 0.0 mins)\n",
      " - Segment: 80666640_0001 (long enough, but missing signal(s))\n",
      " - Segment: 80666640_0002 (too short at 0.2 mins)\n",
      " - Segment: 80666640_0003 (too short at 0.0 mins)\n",
      " - Segment: 80666640_0004 (too short at 0.4 mins)\n",
      " - Segment: 80666640_0005 (too short at 0.1 mins)\n",
      " - Segment: 80666640_0006 (too short at 0.0 mins)\n",
      " - Segment: 80666640_0007 (long enough, but missing signal(s))\n",
      " - Segment: 80666640_0008 (met requirements)\n",
      "Record: waves/p179/p17973277/83801243/83801243 (reading data)\n",
      " - Segment: 83801243_0000 (too short at 0.0 mins)\n",
      " - Segment: 83801243_0001 (too short at 0.6 mins)\n",
      " - Segment: 83801243_0002 (too short at 0.2 mins)\n",
      " - Segment: 83801243_0003 (long enough, but missing signal(s))\n",
      " - Segment: 83801243_0004 (too short at 0.1 mins)\n",
      " - Segment: 83801243_0005 (too short at 0.0 mins)\n",
      " - Segment: 83801243_0006 (too short at 0.9 mins)\n",
      " - Segment: 83801243_0007 (long enough, but missing signal(s))\n",
      " - Segment: 83801243_0008 (long enough, but missing signal(s))\n",
      " - Segment: 83801243_0009 (long enough, but missing signal(s))\n",
      " - Segment: 83801243_0010 (long enough, but missing signal(s))\n",
      " - Segment: 83801243_0011 (too short at 0.8 mins)\n",
      " - Segment: 83801243_0012 (long enough, but missing signal(s))\n",
      " - Segment: 83801243_0013 (too short at 0.1 mins)\n",
      " - Segment: 83801243_0014 (long enough, but missing signal(s))\n",
      " - Segment: 83801243_0015 (too short at 0.1 mins)\n",
      " - Segment: 83801243_0016 (long enough, but missing signal(s))\n",
      " - Segment: 83801243_0017 (long enough, but missing signal(s))\n",
      " - Segment: 83801243_0018 (too short at 0.1 mins)\n",
      " - Segment: 83801243_0019 (long enough, but missing signal(s))\n",
      " - Segment: 83801243_0020 (too short at 0.1 mins)\n",
      " - Segment: 83801243_0021 (long enough, but missing signal(s))\n",
      " - Segment: 83801243_0022 (too short at 0.1 mins)\n",
      " - Segment: 83801243_0023 (long enough, but missing signal(s))\n",
      " - Segment: 83801243_0024 (too short at 0.1 mins)\n",
      " - Segment: 83801243_0025 (long enough, but missing signal(s))\n",
      " - Segment: 83801243_0026 (too short at 0.1 mins)\n",
      " - Segment: 83801243_0027 (long enough, but missing signal(s))\n",
      " - Segment: 83801243_0028 (too short at 0.1 mins)\n",
      " - Segment: 83801243_0029 (too short at 0.3 mins)\n",
      " - Segment: 83801243_0030 (long enough, but missing signal(s))\n",
      " - Segment: 83801243_0031 (too short at 0.1 mins)\n",
      " - Segment: 83801243_0032 (long enough, but missing signal(s))\n",
      " - Segment: 83801243_0033 (long enough, but missing signal(s))\n",
      " - Segment: 83801243_0034 (too short at 0.1 mins)\n",
      " - Segment: 83801243_0035 (long enough, but missing signal(s))\n",
      " - Segment: 83801243_0036 (long enough, but missing signal(s))\n",
      " - Segment: 83801243_0037 (long enough, but missing signal(s))\n",
      " - Segment: 83801243_0038 (long enough, but missing signal(s))\n",
      " - Segment: 83801243_0039 (long enough, but missing signal(s))\n",
      " - Segment: 83801243_0040 (long enough, but missing signal(s))\n",
      " - Segment: 83801243_0041 (too short at 0.1 mins)\n",
      " - Segment: 83801243_0042 (long enough, but missing signal(s))\n",
      " - Segment: 83801243_0043 (long enough, but missing signal(s))\n",
      " - Segment: 83801243_0044 (too short at 0.1 mins)\n",
      " - Segment: 83801243_0045 (long enough, but missing signal(s))\n",
      " - Segment: 83801243_0046 (too short at 0.4 mins)\n",
      " - Segment: 83801243_0047 (too short at 0.5 mins)\n",
      " - Segment: 83801243_0048 (too short at 0.1 mins)\n",
      " - Segment: 83801243_0049 (too short at 0.3 mins)\n",
      " - Segment: 83801243_0050 (long enough, but missing signal(s))\n",
      " - Segment: 83801243_0051 (long enough, but missing signal(s))\n",
      " - Segment: 83801243_0052 (too short at 0.1 mins)\n",
      " - Segment: 83801243_0053 (too short at 0.3 mins)\n",
      " - Segment: 83801243_0054 (long enough, but missing signal(s))\n",
      " - Segment: 83801243_0055 (too short at 0.1 mins)\n",
      " - Segment: 83801243_0056 (long enough, but missing signal(s))\n",
      " - Segment: 83801243_0057 (too short at 0.3 mins)\n",
      " - Segment: 83801243_0058 (long enough, but missing signal(s))\n",
      " - Segment: 83801243_0059 (too short at 0.1 mins)\n",
      " - Segment: 83801243_0060 (too short at 0.2 mins)\n",
      " - Segment: 83801243_0061 (too short at 0.1 mins)\n",
      " - Segment: 83801243_0062 (too short at 0.9 mins)\n",
      " - Segment: 83801243_0063 (long enough, but missing signal(s))\n",
      " - Segment: 83801243_0064 (too short at 0.3 mins)\n",
      "Record: waves/p180/p18011649/83973028/83973028 (reading data)\n",
      "   (missing signals)\n",
      "Record: waves/p180/p18034077/88626898/88626898 (reading data)\n",
      "   (missing signals)\n",
      "Record: waves/p180/p18080257/84939605/84939605 (reading data)\n",
      " - Segment: 84939605_0000 (too short at 0.0 mins)\n",
      " - Segment: 84939605_0001 (long enough, but missing signal(s))\n",
      " - Segment: 84939605_0002 (too short at 0.7 mins)\n",
      " - Segment: 84939605_0003 (long enough, but missing signal(s))\n",
      " - Segment: 84939605_0004 (met requirements)\n",
      "Record: waves/p181/p18109577/82141753/82141753 (reading data)\n",
      " - Segment: 82141753_0000 (too short at 0.0 mins)\n",
      " - Segment: 82141753_0001 (too short at 0.7 mins)\n",
      " - Segment: 82141753_0002 (too short at 0.2 mins)\n",
      " - Segment: 82141753_0003 (too short at 0.1 mins)\n",
      " - Segment: 82141753_0004 (too short at 0.2 mins)\n",
      " - Segment: 82141753_0005 (too short at 0.0 mins)\n",
      " - Segment: 82141753_0006 (too short at 0.0 mins)\n",
      " - Segment: 82141753_0007 (too short at 0.7 mins)\n",
      " - Segment: 82141753_0008 (long enough, but missing signal(s))\n",
      " - Segment: 82141753_0009 (too short at 0.1 mins)\n",
      " - Segment: 82141753_0010 (long enough, but missing signal(s))\n",
      " - Segment: 82141753_0011 (long enough, but missing signal(s))\n",
      " - Segment: 82141753_0012 (long enough, but missing signal(s))\n",
      " - Segment: 82141753_0013 (long enough, but missing signal(s))\n",
      " - Segment: 82141753_0014 (long enough, but missing signal(s))\n",
      " - Segment: 82141753_0015 (long enough, but missing signal(s))\n",
      " - Segment: 82141753_0016 (long enough, but missing signal(s))\n",
      " - Segment: 82141753_0017 (too short at 0.3 mins)\n",
      " - Segment: 82141753_0018 (met requirements)\n",
      "Record: waves/p181/p18111015/86297093/86297093 (reading data)\n",
      "   (missing signals)\n",
      "Record: waves/p181/p18195790/89743206/89743206 (reading data)\n",
      "   (missing signals)\n",
      "Record: waves/p183/p18324626/86874920/86874920 (reading data)\n",
      " - Segment: 86874920_0000 (too short at 0.0 mins)\n",
      " - Segment: 86874920_0001 (too short at 0.1 mins)\n",
      " - Segment: 86874920_0002 (long enough, but missing signal(s))\n",
      " - Segment: 86874920_0003 (too short at 0.4 mins)\n",
      " - Segment: 86874920_0004 (long enough, but missing signal(s))\n",
      " - Segment: 86874920_0005 (too short at 0.1 mins)\n",
      " - Segment: 86874920_0006 (too short at 0.0 mins)\n",
      " - Segment: 86874920_0007 (too short at 0.3 mins)\n",
      " - Segment: 86874920_0008 (too short at 0.1 mins)\n",
      " - Segment: 86874920_0009 (too short at 0.0 mins)\n",
      " - Segment: 86874920_0010 (too short at 0.2 mins)\n",
      " - Segment: 86874920_0011 (long enough, but missing signal(s))\n",
      " - Segment: 86874920_0012 (long enough, but missing signal(s))\n",
      " - Segment: 86874920_0013 (too short at 0.9 mins)\n",
      " - Segment: 86874920_0014 (met requirements)\n",
      "Record: waves/p184/p18423403/84261835/84261835 (reading data)\n",
      "   (missing signals)\n",
      "Record: waves/p184/p18455165/85888407/85888407 (reading data)\n",
      "   (missing signals)\n",
      "Record: waves/p184/p18466737/89821554/89821554 (reading data)\n",
      "   (missing signals)\n",
      "Record: waves/p185/p18573443/85263057/85263057 (reading data)\n",
      "   (missing signals)\n",
      "Record: waves/p186/p18667552/81139702/81139702 (reading data)\n",
      "   (missing signals)\n",
      "Record: waves/p187/p18700695/81937383/81937383 (reading data)\n",
      " - Segment: 81937383_0000 (too short at 0.0 mins)\n",
      " - Segment: 81937383_0001 (long enough, but missing signal(s))\n",
      " - Segment: 81937383_0002 (too short at 0.3 mins)\n",
      " - Segment: 81937383_0003 (long enough, but missing signal(s))\n",
      " - Segment: 81937383_0004 (too short at 0.8 mins)\n",
      " - Segment: 81937383_0005 (long enough, but missing signal(s))\n",
      " - Segment: 81937383_0006 (too short at 0.2 mins)\n",
      " - Segment: 81937383_0007 (too short at 0.5 mins)\n",
      " - Segment: 81937383_0008 (long enough, but missing signal(s))\n",
      " - Segment: 81937383_0009 (too short at 0.3 mins)\n",
      " - Segment: 81937383_0010 (long enough, but missing signal(s))\n",
      " - Segment: 81937383_0011 (too short at 0.2 mins)\n",
      " - Segment: 81937383_0012 (too short at 0.3 mins)\n",
      " - Segment: 81937383_0013 (long enough, but missing signal(s))\n",
      " - Segment: 81937383_0014 (long enough, but missing signal(s))\n",
      " - Segment: 81937383_0015 (long enough, but missing signal(s))\n",
      " - Segment: 81937383_0016 (long enough, but missing signal(s))\n",
      " - Segment: 81937383_0017 (too short at 0.1 mins)\n",
      " - Segment: 81937383_0018 (too short at 0.6 mins)\n",
      " - Segment: 81937383_0019 (long enough, but missing signal(s))\n",
      " - Segment: 81937383_0020 (long enough, but missing signal(s))\n",
      " - Segment: 81937383_0021 (long enough, but missing signal(s))\n",
      " - Segment: 81937383_0022 (long enough, but missing signal(s))\n",
      " - Segment: 81937383_0023 (long enough, but missing signal(s))\n",
      " - Segment: 81937383_0024 (too short at 0.1 mins)\n",
      " - Segment: 81937383_0025 (long enough, but missing signal(s))\n",
      " - Segment: 81937383_0026 (too short at 0.2 mins)\n",
      " - Segment: 81937383_0027 (long enough, but missing signal(s))\n",
      " - Segment: 81937383_0028 (long enough, but missing signal(s))\n",
      " - Segment: 81937383_0029 (long enough, but missing signal(s))\n",
      " - Segment: 81937383_0030 (long enough, but missing signal(s))\n",
      " - Segment: 81937383_0031 (long enough, but missing signal(s))\n",
      " - Segment: 81937383_0032 (long enough, but missing signal(s))\n",
      " - Segment: 81937383_0033 (too short at 0.6 mins)\n",
      " - Segment: 81937383_0034 (long enough, but missing signal(s))\n",
      " - Segment: 81937383_0035 (too short at 0.5 mins)\n",
      " - Segment: 81937383_0036 (long enough, but missing signal(s))\n",
      " - Segment: 81937383_0037 (too short at 0.1 mins)\n",
      " - Segment: 81937383_0038 (long enough, but missing signal(s))\n",
      " - Segment: 81937383_0039 (long enough, but missing signal(s))\n",
      " - Segment: 81937383_0040 (too short at 0.6 mins)\n",
      " - Segment: 81937383_0041 (long enough, but missing signal(s))\n",
      " - Segment: 81937383_0042 (too short at 0.3 mins)\n",
      " - Segment: 81937383_0043 (long enough, but missing signal(s))\n",
      " - Segment: 81937383_0044 (too short at 0.3 mins)\n",
      " - Segment: 81937383_0045 (long enough, but missing signal(s))\n",
      " - Segment: 81937383_0046 (long enough, but missing signal(s))\n",
      " - Segment: 81937383_0047 (too short at 0.1 mins)\n",
      " - Segment: 81937383_0048 (long enough, but missing signal(s))\n",
      " - Segment: 81937383_0049 (too short at 0.2 mins)\n",
      " - Segment: 81937383_0050 (long enough, but missing signal(s))\n",
      " - Segment: 81937383_0051 (too short at 0.1 mins)\n",
      " - Segment: 81937383_0052 (long enough, but missing signal(s))\n",
      " - Segment: 81937383_0053 (long enough, but missing signal(s))\n",
      "Record: waves/p187/p18709273/88457020/88457020 (reading data)\n",
      "   (missing signals)\n",
      "Record: waves/p187/p18742074/84505262/84505262 (reading data)\n",
      " - Segment: 84505262_0000 (too short at 0.0 mins)\n",
      " - Segment: 84505262_0001 (too short at 0.1 mins)\n",
      " - Segment: 84505262_0002 (too short at 0.1 mins)\n",
      " - Segment: 84505262_0003 (too short at 0.1 mins)\n",
      " - Segment: 84505262_0004 (too short at 0.0 mins)\n",
      " - Segment: 84505262_0005 (too short at 0.1 mins)\n",
      " - Segment: 84505262_0006 (too short at 0.1 mins)\n",
      " - Segment: 84505262_0007 (too short at 0.0 mins)\n",
      " - Segment: 84505262_0008 (too short at 0.1 mins)\n",
      " - Segment: 84505262_0009 (long enough, but missing signal(s))\n",
      " - Segment: 84505262_0010 (met requirements)\n",
      "Record: waves/p187/p18768904/82650643/82650643 (reading data)\n",
      "   (missing signals)\n",
      "Record: waves/p187/p18790258/85940419/85940419 (reading data)\n",
      "   (missing signals)\n",
      "Record: waves/p187/p18790977/87554500/87554500 (reading data)\n",
      "   (missing signals)\n",
      "Record: waves/p188/p18824975/86288257/86288257 (reading data)\n",
      " - Segment: 86288257_0000 (too short at 0.0 mins)\n",
      " - Segment: 86288257_0001 (met requirements)\n",
      "Record: waves/p188/p18881392/85145725/85145725 (reading data)\n",
      "   (missing signals)\n",
      "Record: waves/p189/p18981843/86164656/86164656 (reading data)\n",
      "   (missing signals)\n",
      "Record: waves/p190/p19052042/84601191/84601191 (reading data)\n",
      "   (missing signals)\n",
      "Record: waves/p191/p19126489/89699401/89699401 (reading data)\n",
      " - Segment: 89699401_0000 (too short at 0.0 mins)\n",
      " - Segment: 89699401_0001 (met requirements)\n",
      "Record: waves/p192/p19290410/81362381/81362381 (reading data)\n",
      "   (missing signals)\n",
      "Record: waves/p193/p19305085/87468061/87468061 (reading data)\n",
      "   (missing signals)\n",
      "Record: waves/p193/p19313794/88537698/88537698 (reading data)\n",
      " - Segment: 88537698_0000 (too short at 0.0 mins)\n",
      " - Segment: 88537698_0001 (too short at 0.6 mins)\n",
      " - Segment: 88537698_0002 (too short at 0.2 mins)\n",
      " - Segment: 88537698_0003 (too short at 0.1 mins)\n",
      " - Segment: 88537698_0004 (too short at 0.5 mins)\n",
      " - Segment: 88537698_0005 (too short at 0.1 mins)\n",
      " - Segment: 88537698_0006 (too short at 0.0 mins)\n",
      " - Segment: 88537698_0007 (too short at 0.1 mins)\n",
      " - Segment: 88537698_0008 (long enough, but missing signal(s))\n",
      " - Segment: 88537698_0009 (too short at 0.8 mins)\n",
      " - Segment: 88537698_0010 (too short at 0.3 mins)\n",
      " - Segment: 88537698_0011 (long enough, but missing signal(s))\n",
      " - Segment: 88537698_0012 (long enough, but missing signal(s))\n",
      " - Segment: 88537698_0013 (met requirements)\n",
      "Record: waves/p193/p19396598/82093805/82093805 (reading data)\n",
      "   (missing signals)\n",
      "Record: waves/p194/p19477300/86239129/86239129 (reading data)\n",
      "   (missing signals)\n",
      "Record: waves/p194/p19498855/81594095/81594095 (reading data)\n",
      "   (missing signals)\n",
      "Record: waves/p195/p19504755/85059986/85059986 (reading data)\n",
      "   (missing signals)\n",
      "Record: waves/p196/p19619764/83958172/83958172 (reading data)\n",
      " - Segment: 83958172_0000 (too short at 0.0 mins)\n",
      " - Segment: 83958172_0001 (met requirements)\n",
      "Record: waves/p196/p19646228/87340466/87340466 (reading data)\n",
      "   (missing signals)\n",
      "Record: waves/p196/p19664876/86315854/86315854 (reading data)\n",
      "   (missing signals)\n",
      "Record: waves/p197/p19706392/89657546/89657546 (reading data)\n",
      "   (missing signals)\n",
      "Record: waves/p197/p19772551/83530581/83530581 (reading data)\n",
      "   (missing signals)\n",
      "Record: waves/p199/p19918916/89922194/89922194 (reading data)\n",
      "   (missing signals)\n",
      "Record: waves/p199/p19979360/89865959/89865959 (reading data)\n",
      "   (missing signals)\n",
      "Record: waves/p199/p19994379/87407093/87407093 (reading data)\n",
      "   (missing signals)\n",
      "A total of 52 records met the requirements:\n"
     ]
    }
   ],
   "source": [
    "matching_recs = {'dir':[], 'seg_name':[], 'length':[]}\n",
    "\n",
    "for record in records:\n",
    "    print('Record: {}'.format(record), end=\"\", flush=True)\n",
    "    record_dir = f'{database_name}/{record.parent}'\n",
    "    record_name = record.name\n",
    "    print(' (reading data)')\n",
    "    record_data = wfdb.rdheader(record_name,\n",
    "                                pn_dir=record_dir,\n",
    "                                rd_segments=True)\n",
    "\n",
    "    # Check whether the required signals are present in the record\n",
    "    sigs_present = record_data.sig_name\n",
    "    if not all(x in sigs_present for x in required_sigs):\n",
    "        print('   (missing signals)')\n",
    "        continue\n",
    "\n",
    "    # Get the segments for the record\n",
    "    segments = record_data.seg_name\n",
    "\n",
    "    # Check to see if the segment is 2 min long\n",
    "    # If not, move to the next one\n",
    "    gen = (segment for segment in segments if segment != '~')\n",
    "    for segment in gen:\n",
    "        print(' - Segment: {}'.format(segment), end=\"\", flush=True)\n",
    "        segment_metadata = wfdb.rdheader(record_name=segment,\n",
    "                                         pn_dir=record_dir)\n",
    "        seg_length = segment_metadata.sig_len/(segment_metadata.fs)\n",
    "\n",
    "        if seg_length < req_seg_duration:\n",
    "            print(f' (too short at {seg_length/60:.1f} mins)')\n",
    "            continue\n",
    "\n",
    "        # Next check that all required signals are present in the segment\n",
    "        sigs_present = segment_metadata.sig_name\n",
    "        \n",
    "        if all(x in sigs_present for x in required_sigs):\n",
    "            matching_recs['dir'].append(record_dir)\n",
    "            matching_recs['seg_name'].append(segment)\n",
    "            matching_recs['length'].append(seg_length)\n",
    "            print(' (met requirements)')\n",
    "            # Since we only need one segment per record break out of loop\n",
    "            break\n",
    "        else:\n",
    "            print(' (long enough, but missing signal(s))')\n",
    "\n",
    "print(f\"A total of {len(matching_recs['dir'])} records met the requirements:\")\n",
    "\n",
    "#df_matching_recs = pd.DataFrame(data=matching_recs)\n",
    "#df_matching_recs.to_csv('matching_records.csv', index=False)\n",
    "#p=1"
   ]
  },
  {
   "cell_type": "code",
   "execution_count": null,
   "metadata": {
    "id": "ayb9DtQTe-3a"
   },
   "outputs": [],
   "source": [
    "df_matching_recs = pd.DataFrame(data=matching_recs)"
   ]
  },
  {
   "cell_type": "code",
   "execution_count": null,
   "metadata": {
    "colab": {
     "base_uri": "https://localhost:8080/",
     "height": 206
    },
    "id": "2kwExbjgfAiC",
    "outputId": "2fe69464-2789-4269-c00c-79edae54a2a9"
   },
   "outputs": [
    {
     "data": {
      "text/html": [
       "\n",
       "  <div id=\"df-11f45bdc-1896-4430-88ab-819f34aeaf15\">\n",
       "    <div class=\"colab-df-container\">\n",
       "      <div>\n",
       "<style scoped>\n",
       "    .dataframe tbody tr th:only-of-type {\n",
       "        vertical-align: middle;\n",
       "    }\n",
       "\n",
       "    .dataframe tbody tr th {\n",
       "        vertical-align: top;\n",
       "    }\n",
       "\n",
       "    .dataframe thead th {\n",
       "        text-align: right;\n",
       "    }\n",
       "</style>\n",
       "<table border=\"1\" class=\"dataframe\">\n",
       "  <thead>\n",
       "    <tr style=\"text-align: right;\">\n",
       "      <th></th>\n",
       "      <th>dir</th>\n",
       "      <th>seg_name</th>\n",
       "      <th>length</th>\n",
       "    </tr>\n",
       "  </thead>\n",
       "  <tbody>\n",
       "    <tr>\n",
       "      <th>0</th>\n",
       "      <td>mimic4wdb/0.1.0/waves/p100/p10020306/83404654</td>\n",
       "      <td>83404654_0005</td>\n",
       "      <td>3145.063828</td>\n",
       "    </tr>\n",
       "    <tr>\n",
       "      <th>1</th>\n",
       "      <td>mimic4wdb/0.1.0/waves/p101/p10126957/82924339</td>\n",
       "      <td>82924339_0007</td>\n",
       "      <td>2530.393373</td>\n",
       "    </tr>\n",
       "    <tr>\n",
       "      <th>2</th>\n",
       "      <td>mimic4wdb/0.1.0/waves/p102/p10209410/84248019</td>\n",
       "      <td>84248019_0004</td>\n",
       "      <td>61.467046</td>\n",
       "    </tr>\n",
       "    <tr>\n",
       "      <th>3</th>\n",
       "      <td>mimic4wdb/0.1.0/waves/p109/p10952189/82439920</td>\n",
       "      <td>82439920_0004</td>\n",
       "      <td>25462.723598</td>\n",
       "    </tr>\n",
       "    <tr>\n",
       "      <th>4</th>\n",
       "      <td>mimic4wdb/0.1.0/waves/p111/p11109975/82800131</td>\n",
       "      <td>82800131_0002</td>\n",
       "      <td>865.660891</td>\n",
       "    </tr>\n",
       "  </tbody>\n",
       "</table>\n",
       "</div>\n",
       "      <button class=\"colab-df-convert\" onclick=\"convertToInteractive('df-11f45bdc-1896-4430-88ab-819f34aeaf15')\"\n",
       "              title=\"Convert this dataframe to an interactive table.\"\n",
       "              style=\"display:none;\">\n",
       "        \n",
       "  <svg xmlns=\"http://www.w3.org/2000/svg\" height=\"24px\"viewBox=\"0 0 24 24\"\n",
       "       width=\"24px\">\n",
       "    <path d=\"M0 0h24v24H0V0z\" fill=\"none\"/>\n",
       "    <path d=\"M18.56 5.44l.94 2.06.94-2.06 2.06-.94-2.06-.94-.94-2.06-.94 2.06-2.06.94zm-11 1L8.5 8.5l.94-2.06 2.06-.94-2.06-.94L8.5 2.5l-.94 2.06-2.06.94zm10 10l.94 2.06.94-2.06 2.06-.94-2.06-.94-.94-2.06-.94 2.06-2.06.94z\"/><path d=\"M17.41 7.96l-1.37-1.37c-.4-.4-.92-.59-1.43-.59-.52 0-1.04.2-1.43.59L10.3 9.45l-7.72 7.72c-.78.78-.78 2.05 0 2.83L4 21.41c.39.39.9.59 1.41.59.51 0 1.02-.2 1.41-.59l7.78-7.78 2.81-2.81c.8-.78.8-2.07 0-2.86zM5.41 20L4 18.59l7.72-7.72 1.47 1.35L5.41 20z\"/>\n",
       "  </svg>\n",
       "      </button>\n",
       "      \n",
       "  <style>\n",
       "    .colab-df-container {\n",
       "      display:flex;\n",
       "      flex-wrap:wrap;\n",
       "      gap: 12px;\n",
       "    }\n",
       "\n",
       "    .colab-df-convert {\n",
       "      background-color: #E8F0FE;\n",
       "      border: none;\n",
       "      border-radius: 50%;\n",
       "      cursor: pointer;\n",
       "      display: none;\n",
       "      fill: #1967D2;\n",
       "      height: 32px;\n",
       "      padding: 0 0 0 0;\n",
       "      width: 32px;\n",
       "    }\n",
       "\n",
       "    .colab-df-convert:hover {\n",
       "      background-color: #E2EBFA;\n",
       "      box-shadow: 0px 1px 2px rgba(60, 64, 67, 0.3), 0px 1px 3px 1px rgba(60, 64, 67, 0.15);\n",
       "      fill: #174EA6;\n",
       "    }\n",
       "\n",
       "    [theme=dark] .colab-df-convert {\n",
       "      background-color: #3B4455;\n",
       "      fill: #D2E3FC;\n",
       "    }\n",
       "\n",
       "    [theme=dark] .colab-df-convert:hover {\n",
       "      background-color: #434B5C;\n",
       "      box-shadow: 0px 1px 3px 1px rgba(0, 0, 0, 0.15);\n",
       "      filter: drop-shadow(0px 1px 2px rgba(0, 0, 0, 0.3));\n",
       "      fill: #FFFFFF;\n",
       "    }\n",
       "  </style>\n",
       "\n",
       "      <script>\n",
       "        const buttonEl =\n",
       "          document.querySelector('#df-11f45bdc-1896-4430-88ab-819f34aeaf15 button.colab-df-convert');\n",
       "        buttonEl.style.display =\n",
       "          google.colab.kernel.accessAllowed ? 'block' : 'none';\n",
       "\n",
       "        async function convertToInteractive(key) {\n",
       "          const element = document.querySelector('#df-11f45bdc-1896-4430-88ab-819f34aeaf15');\n",
       "          const dataTable =\n",
       "            await google.colab.kernel.invokeFunction('convertToInteractive',\n",
       "                                                     [key], {});\n",
       "          if (!dataTable) return;\n",
       "\n",
       "          const docLinkHtml = 'Like what you see? Visit the ' +\n",
       "            '<a target=\"_blank\" href=https://colab.research.google.com/notebooks/data_table.ipynb>data table notebook</a>'\n",
       "            + ' to learn more about interactive tables.';\n",
       "          element.innerHTML = '';\n",
       "          dataTable['output_type'] = 'display_data';\n",
       "          await google.colab.output.renderOutput(dataTable, element);\n",
       "          const docLink = document.createElement('div');\n",
       "          docLink.innerHTML = docLinkHtml;\n",
       "          element.appendChild(docLink);\n",
       "        }\n",
       "      </script>\n",
       "    </div>\n",
       "  </div>\n",
       "  "
      ],
      "text/plain": [
       "                                             dir       seg_name        length\n",
       "0  mimic4wdb/0.1.0/waves/p100/p10020306/83404654  83404654_0005   3145.063828\n",
       "1  mimic4wdb/0.1.0/waves/p101/p10126957/82924339  82924339_0007   2530.393373\n",
       "2  mimic4wdb/0.1.0/waves/p102/p10209410/84248019  84248019_0004     61.467046\n",
       "3  mimic4wdb/0.1.0/waves/p109/p10952189/82439920  82439920_0004  25462.723598\n",
       "4  mimic4wdb/0.1.0/waves/p111/p11109975/82800131  82800131_0002    865.660891"
      ]
     },
     "execution_count": 40,
     "metadata": {},
     "output_type": "execute_result"
    }
   ],
   "source": [
    "df_matching_recs.head()\n"
   ]
  },
  {
   "cell_type": "code",
   "execution_count": null,
   "metadata": {
    "colab": {
     "base_uri": "https://localhost:8080/"
    },
    "id": "kYeIG5How0mq",
    "outputId": "c8503320-b75c-4587-9632-0192e98dab66"
   },
   "outputs": [
    {
     "data": {
      "text/plain": [
       "dir         52\n",
       "seg_name    52\n",
       "length      52\n",
       "dtype: int64"
      ]
     },
     "execution_count": 42,
     "metadata": {},
     "output_type": "execute_result"
    }
   ],
   "source": [
    "df_matching_recs.count()"
   ]
  },
  {
   "cell_type": "code",
   "execution_count": null,
   "metadata": {
    "colab": {
     "base_uri": "https://localhost:8080/"
    },
    "id": "lyELdfWfbdMl",
    "outputId": "ca58fa34-a3be-4cb3-e079-79f36bdd112e"
   },
   "outputs": [
    {
     "name": "stdout",
     "output_type": "stream",
     "text": [
      "A total of 52 out of 200 records met the requirements.\n",
      "\n",
      "The relevant segment names are:\n",
      " - 83404654_0005\n",
      " - 82924339_0007\n",
      " - 84248019_0005\n",
      " - 82439920_0004\n",
      " - 82800131_0002\n",
      " - 84304393_0001\n",
      " - 89464742_0001\n",
      " - 88958796_0002\n",
      " - 88995377_0001\n",
      " - 85230771_0004\n",
      " - 86643930_0004\n",
      " - 81250824_0005\n",
      " - 87706224_0002\n",
      " - 83058614_0005\n",
      " - 82803505_0017\n",
      " - 88574629_0001\n",
      " - 87867111_0012\n",
      " - 84560969_0001\n",
      " - 87562386_0001\n",
      " - 88685937_0001\n",
      " - 86120311_0001\n",
      " - 89866183_0014\n",
      " - 89068160_0002\n",
      " - 86380383_0001\n",
      " - 85078610_0008\n",
      " - 87702634_0005\n",
      " - 84686667_0002\n",
      " - 84802706_0002\n",
      " - 81811182_0004\n",
      " - 84421559_0001\n",
      " - 88221516_0006\n",
      " - 80057524_0005\n",
      " - 84209926_0018\n",
      " - 83959636_0003\n",
      " - 89989722_0009\n",
      " - 89225487_0007\n",
      " - 84391267_0001\n",
      " - 80889556_0002\n",
      " - 85250558_0001\n",
      " - 84567505_0005\n",
      " - 85814172_0007\n",
      " - 88884866_0005\n",
      " - 80497954_0010\n",
      " - 80666640_0014\n",
      " - 84939605_0004\n",
      " - 82141753_0018\n",
      " - 86874920_0014\n",
      " - 84505262_0010\n",
      " - 86288257_0001\n",
      " - 89699401_0001\n",
      " - 88537698_0013\n",
      " - 83958172_0001\n",
      "\n",
      "The corresponding directories are: \n",
      " - mimic4wdb/0.1.0/waves/p100/p10020306/83404654\n",
      " - mimic4wdb/0.1.0/waves/p101/p10126957/82924339\n",
      " - mimic4wdb/0.1.0/waves/p102/p10209410/84248019\n",
      " - mimic4wdb/0.1.0/waves/p109/p10952189/82439920\n",
      " - mimic4wdb/0.1.0/waves/p111/p11109975/82800131\n",
      " - mimic4wdb/0.1.0/waves/p113/p11392990/84304393\n",
      " - mimic4wdb/0.1.0/waves/p121/p12168037/89464742\n",
      " - mimic4wdb/0.1.0/waves/p121/p12173569/88958796\n",
      " - mimic4wdb/0.1.0/waves/p121/p12188288/88995377\n",
      " - mimic4wdb/0.1.0/waves/p128/p12872596/85230771\n",
      " - mimic4wdb/0.1.0/waves/p129/p12933208/86643930\n",
      " - mimic4wdb/0.1.0/waves/p130/p13016481/81250824\n",
      " - mimic4wdb/0.1.0/waves/p132/p13240081/87706224\n",
      " - mimic4wdb/0.1.0/waves/p136/p13624686/83058614\n",
      " - mimic4wdb/0.1.0/waves/p137/p13791821/82803505\n",
      " - mimic4wdb/0.1.0/waves/p141/p14191565/88574629\n",
      " - mimic4wdb/0.1.0/waves/p142/p14285792/87867111\n",
      " - mimic4wdb/0.1.0/waves/p143/p14356077/84560969\n",
      " - mimic4wdb/0.1.0/waves/p143/p14363499/87562386\n",
      " - mimic4wdb/0.1.0/waves/p146/p14695840/88685937\n",
      " - mimic4wdb/0.1.0/waves/p149/p14931547/86120311\n",
      " - mimic4wdb/0.1.0/waves/p151/p15174162/89866183\n",
      " - mimic4wdb/0.1.0/waves/p153/p15312343/89068160\n",
      " - mimic4wdb/0.1.0/waves/p153/p15342703/86380383\n",
      " - mimic4wdb/0.1.0/waves/p155/p15552902/85078610\n",
      " - mimic4wdb/0.1.0/waves/p156/p15649186/87702634\n",
      " - mimic4wdb/0.1.0/waves/p158/p15857793/84686667\n",
      " - mimic4wdb/0.1.0/waves/p158/p15865327/84802706\n",
      " - mimic4wdb/0.1.0/waves/p158/p15896656/81811182\n",
      " - mimic4wdb/0.1.0/waves/p159/p15920699/84421559\n",
      " - mimic4wdb/0.1.0/waves/p160/p16034243/88221516\n",
      " - mimic4wdb/0.1.0/waves/p165/p16566444/80057524\n",
      " - mimic4wdb/0.1.0/waves/p166/p16644640/84209926\n",
      " - mimic4wdb/0.1.0/waves/p167/p16709726/83959636\n",
      " - mimic4wdb/0.1.0/waves/p167/p16715341/89989722\n",
      " - mimic4wdb/0.1.0/waves/p168/p16818396/89225487\n",
      " - mimic4wdb/0.1.0/waves/p170/p17032851/84391267\n",
      " - mimic4wdb/0.1.0/waves/p172/p17229504/80889556\n",
      " - mimic4wdb/0.1.0/waves/p173/p17301721/85250558\n",
      " - mimic4wdb/0.1.0/waves/p173/p17325001/84567505\n",
      " - mimic4wdb/0.1.0/waves/p174/p17490822/85814172\n",
      " - mimic4wdb/0.1.0/waves/p177/p17738824/88884866\n",
      " - mimic4wdb/0.1.0/waves/p177/p17744715/80497954\n",
      " - mimic4wdb/0.1.0/waves/p179/p17957832/80666640\n",
      " - mimic4wdb/0.1.0/waves/p180/p18080257/84939605\n",
      " - mimic4wdb/0.1.0/waves/p181/p18109577/82141753\n",
      " - mimic4wdb/0.1.0/waves/p183/p18324626/86874920\n",
      " - mimic4wdb/0.1.0/waves/p187/p18742074/84505262\n",
      " - mimic4wdb/0.1.0/waves/p188/p18824975/86288257\n",
      " - mimic4wdb/0.1.0/waves/p191/p19126489/89699401\n",
      " - mimic4wdb/0.1.0/waves/p193/p19313794/88537698\n",
      " - mimic4wdb/0.1.0/waves/p196/p19619764/83958172\n"
     ]
    }
   ],
   "source": [
    "print(f\"A total of {len(matching_recs['dir'])} out of {len(records)} records met the requirements.\")\n",
    "\n",
    "relevant_segments_names = \"\\n - \".join(matching_recs['seg_name'])\n",
    "print(f\"\\nThe relevant segment names are:\\n - {relevant_segments_names}\")\n",
    "\n",
    "relevant_dirs = \"\\n - \".join(matching_recs['dir'])\n",
    "print(f\"\\nThe corresponding directories are: \\n - {relevant_dirs}\")"
   ]
  },
  {
   "cell_type": "code",
   "execution_count": null,
   "metadata": {
    "id": "aPHORtn9cIXV"
   },
   "outputs": [],
   "source": []
  }
 ],
 "metadata": {
  "colab": {
   "provenance": []
  },
  "kernelspec": {
   "display_name": "Python 3 (ipykernel)",
   "language": "python",
   "name": "python3"
  },
  "language_info": {
   "codemirror_mode": {
    "name": "ipython",
    "version": 3
   },
   "file_extension": ".py",
   "mimetype": "text/x-python",
   "name": "python",
   "nbconvert_exporter": "python",
   "pygments_lexer": "ipython3",
   "version": "3.9.15"
  }
 },
 "nbformat": 4,
 "nbformat_minor": 1
}
