{
 "cells": [
  {
   "cell_type": "markdown",
   "id": "6b096fb5",
   "metadata": {},
   "source": [
    "**Photoplethysmography(PPG) signal to predict an elevated shock index**"
   ]
  },
  {
   "cell_type": "markdown",
   "id": "73e489fc",
   "metadata": {},
   "source": [
    "**Problem Statement**\n",
    "\n",
    "Using PPG and ABP signals to indicate whether a patient is critically ill or not"
   ]
  },
  {
   "cell_type": "markdown",
   "id": "e98c2c0f",
   "metadata": {},
   "source": [
    "**Required packages**"
   ]
  },
  {
   "cell_type": "code",
   "execution_count": 29,
   "id": "c8ecfdd5",
   "metadata": {},
   "outputs": [],
   "source": [
    "import pandas as pd\n",
    "import numpy as np\n",
    "import tensorflow as tf\n",
    "from tensorflow import keras\n",
    "import os"
   ]
  },
  {
   "cell_type": "markdown",
   "id": "07c7d099",
   "metadata": {},
   "source": [
    "**Data Preprocessing**"
   ]
  },
  {
   "cell_type": "code",
   "execution_count": 30,
   "id": "a9b8b20e",
   "metadata": {},
   "outputs": [],
   "source": [
    "#Reading our dataset\n",
    "df = pd.read_csv('Shock_index.csv')"
   ]
  },
  {
   "cell_type": "code",
   "execution_count": 31,
   "id": "5d701ac8",
   "metadata": {},
   "outputs": [
    {
     "data": {
      "text/html": [
       "<div>\n",
       "<style scoped>\n",
       "    .dataframe tbody tr th:only-of-type {\n",
       "        vertical-align: middle;\n",
       "    }\n",
       "\n",
       "    .dataframe tbody tr th {\n",
       "        vertical-align: top;\n",
       "    }\n",
       "\n",
       "    .dataframe thead th {\n",
       "        text-align: right;\n",
       "    }\n",
       "</style>\n",
       "<table border=\"1\" class=\"dataframe\">\n",
       "  <thead>\n",
       "    <tr style=\"text-align: right;\">\n",
       "      <th></th>\n",
       "      <th>Heart_Rate</th>\n",
       "      <th>Systolic_blood_pressure(SBP)</th>\n",
       "      <th>Shock_index</th>\n",
       "      <th>critically ill</th>\n",
       "    </tr>\n",
       "  </thead>\n",
       "  <tbody>\n",
       "    <tr>\n",
       "      <th>0</th>\n",
       "      <td>54</td>\n",
       "      <td>28.56250</td>\n",
       "      <td>1.890591</td>\n",
       "      <td>1</td>\n",
       "    </tr>\n",
       "    <tr>\n",
       "      <th>1</th>\n",
       "      <td>45</td>\n",
       "      <td>52.50000</td>\n",
       "      <td>0.857143</td>\n",
       "      <td>0</td>\n",
       "    </tr>\n",
       "    <tr>\n",
       "      <th>2</th>\n",
       "      <td>69</td>\n",
       "      <td>66.81250</td>\n",
       "      <td>1.032741</td>\n",
       "      <td>1</td>\n",
       "    </tr>\n",
       "    <tr>\n",
       "      <th>3</th>\n",
       "      <td>90</td>\n",
       "      <td>73.78125</td>\n",
       "      <td>1.219822</td>\n",
       "      <td>1</td>\n",
       "    </tr>\n",
       "    <tr>\n",
       "      <th>4</th>\n",
       "      <td>87</td>\n",
       "      <td>86.81250</td>\n",
       "      <td>1.002160</td>\n",
       "      <td>1</td>\n",
       "    </tr>\n",
       "  </tbody>\n",
       "</table>\n",
       "</div>"
      ],
      "text/plain": [
       "   Heart_Rate  Systolic_blood_pressure(SBP)  Shock_index  critically ill\n",
       "0          54                      28.56250     1.890591               1\n",
       "1          45                      52.50000     0.857143               0\n",
       "2          69                      66.81250     1.032741               1\n",
       "3          90                      73.78125     1.219822               1\n",
       "4          87                      86.81250     1.002160               1"
      ]
     },
     "execution_count": 31,
     "metadata": {},
     "output_type": "execute_result"
    }
   ],
   "source": [
    "#Printing the first 5 rows\n",
    "df.head()"
   ]
  },
  {
   "cell_type": "code",
   "execution_count": 18,
   "id": "6aee0543",
   "metadata": {},
   "outputs": [
    {
     "name": "stdout",
     "output_type": "stream",
     "text": [
      "27\n"
     ]
    }
   ],
   "source": [
    "#Printing number of critically ill patients\n",
    "count = 0\n",
    "for i in range(0, len(df['critically ill'])):\n",
    "    if df['critically ill'][i] == 1:\n",
    "        count = count + 1\n",
    "    else:\n",
    "        continue\n",
    "print(count)"
   ]
  },
  {
   "cell_type": "code",
   "execution_count": 19,
   "id": "dace03bf",
   "metadata": {},
   "outputs": [],
   "source": [
    "#Dropping columns not needed for analysis and preparing our target variable\n",
    "Y = df['critically ill']\n",
    "df = df.drop(['critically ill'], axis = 1)"
   ]
  },
  {
   "cell_type": "code",
   "execution_count": 20,
   "id": "a3fe3236",
   "metadata": {},
   "outputs": [],
   "source": [
    "df = df.drop(['Shock_index'], axis = 1)"
   ]
  },
  {
   "cell_type": "code",
   "execution_count": 21,
   "id": "ae3e662f",
   "metadata": {},
   "outputs": [
    {
     "name": "stdout",
     "output_type": "stream",
     "text": [
      "    Heart_Rate  Systolic_blood_pressure(SBP)\n",
      "0           54                      28.56250\n",
      "1           45                      52.50000\n",
      "2           69                      66.81250\n",
      "3           90                      73.78125\n",
      "4           87                      86.81250\n",
      "5           78                      43.12500\n",
      "6          114                      70.40625\n",
      "7           84                      62.84375\n",
      "8           90                      93.87500\n",
      "9          120                      59.68750\n",
      "10         123                      18.03125\n",
      "11          66                      90.68750\n",
      "12          72                      52.18750\n",
      "13          78                      55.31250\n",
      "14          69                      96.28125\n",
      "15          84                      94.34375\n",
      "16         114                      57.18750\n",
      "17          81                      74.46875\n",
      "18         123                      62.46875\n",
      "19          48                      84.46875\n",
      "20          78                      67.43750\n",
      "21          99                     358.84375\n",
      "22          78                      55.50000\n",
      "23          84                      69.40625\n",
      "24          12                     110.50000\n",
      "25          90                      90.34375\n",
      "26          87                      80.93750\n",
      "27          75                      84.46875\n",
      "28          63                      90.15625\n",
      "29          69                      82.31250\n",
      "30          72                      19.03125\n",
      "31          96                      88.93750\n",
      "32          93                     106.62500\n",
      "33          87                      72.90625\n",
      "34          75                      93.56250\n",
      "35          81                      70.34375\n",
      "36          90                      54.50000\n",
      "37          72                      75.37500\n",
      "38          75                     335.37500\n",
      "39          69                     461.93750\n",
      "40         192                      60.75000\n",
      "41         111                     377.71875\n",
      "42         117                      80.96875\n",
      "43          60                      87.56250\n",
      "44          87                      70.00000\n",
      "45         126                      54.81250\n",
      "46          69                     340.62500\n",
      "47          60                      94.37500\n"
     ]
    }
   ],
   "source": [
    "#Printing the Predictor variables\n",
    "X = df\n",
    "print(X)"
   ]
  },
  {
   "cell_type": "markdown",
   "id": "ffabca46",
   "metadata": {},
   "source": [
    "***Code for plotting accuracy and loss curves***"
   ]
  },
  {
   "cell_type": "code",
   "execution_count": 26,
   "id": "72dd6005",
   "metadata": {},
   "outputs": [],
   "source": [
    "from sklearn import metrics\n",
    "def plot_loss(loss,val_loss):\n",
    "  plt.figure()\n",
    "  plt.plot(loss)\n",
    "  plt.plot(val_loss)\n",
    "  plt.title('Model loss')\n",
    "  plt.ylabel('Loss')\n",
    "  plt.xlabel('Epoch')\n",
    "  plt.legend(['Train', 'val'], loc='upper right')\n",
    "  plt.show()\n",
    "def plot_accuracy(acc,val_acc):\n",
    "  # Plot training & validation accuracy values\n",
    "  plt.figure()\n",
    "  plt.plot(acc)\n",
    "  plt.plot(val_acc)\n",
    "  plt.title('Model accuracy')\n",
    "  plt.ylabel('Accuracy')\n",
    "  plt.xlabel('Epoch')\n",
    "  plt.legend(['Train', 'val'], loc='upper left')\n",
    "  plt.show()"
   ]
  },
  {
   "cell_type": "code",
   "execution_count": 65,
   "id": "313033da",
   "metadata": {},
   "outputs": [],
   "source": [
    "x = pd.DataFrame(x, columns =['Heart_Rate', 'Systolic_blood_pressure(SBP)'])"
   ]
  },
  {
   "cell_type": "code",
   "execution_count": 66,
   "id": "1d89c0ea",
   "metadata": {},
   "outputs": [
    {
     "name": "stdout",
     "output_type": "stream",
     "text": [
      "1/1 [==============================] - 0s 31ms/step\n",
      "[[0.26294938]]\n"
     ]
    }
   ],
   "source": [
    "prediction = model.predict(x, verbose=1)\n",
    "print(prediction)"
   ]
  },
  {
   "cell_type": "markdown",
   "id": "5f18ef6f",
   "metadata": {},
   "source": [
    "Model prediction is closer to 1 meaning that the value shock index is 1 or more thus the patient requiring care."
   ]
  },
  {
   "cell_type": "markdown",
   "id": "5cd4538a",
   "metadata": {},
   "source": [
    "**METHODOLOGY**\n",
    "\n",
    "\n",
    "For our model building we have decided to go ahead with the following 3 approaches:\n",
    "1. Self tuned DNN.\n",
    "2. DNN with keras tuner.\n",
    "3. Random forest classifier\n",
    "\n",
    "As we have only 2 columns and 48 rows a DNN might not be an ideal choice thus we have also considered using a supervised machine learning technique. After building these models and comparing their performance we will select the model with highest train and test accuracy thus fitting our use case.\n"
   ]
  },
  {
   "cell_type": "markdown",
   "id": "9df95d58",
   "metadata": {},
   "source": [
    "***MODEL 1***\n",
    "\n",
    "1. In our 1st model we will create a neural network with 2 Dense layers with 16 units each having a ‘relu’ activation function. We also add a dropout value of 0.2. \n",
    "2. The last layer in the DNN is output layer with 1 unit as we have a binary classification and activation function as ‘sigmoid’."
   ]
  },
  {
   "cell_type": "code",
   "execution_count": 32,
   "id": "a65d2aa1",
   "metadata": {},
   "outputs": [
    {
     "name": "stdout",
     "output_type": "stream",
     "text": [
      "Shape of Training Data (38, 2)\n",
      "Shape of Testing Data (10, 2)\n"
     ]
    }
   ],
   "source": [
    "from sklearn.model_selection import train_test_split\n",
    "X_train,X_test,Y_train,Y_test=train_test_split(X,Y,test_size=0.2,random_state=1)\n",
    "print(\"Shape of Training Data\",X_train.shape)\n",
    "print(\"Shape of Testing Data\",X_test.shape)"
   ]
  },
  {
   "cell_type": "code",
   "execution_count": 54,
   "id": "329906ae",
   "metadata": {},
   "outputs": [],
   "source": [
    "model = tf.keras.Sequential([\n",
    "    #1st dense layer with 16 units\n",
    "        tf.keras.layers.Dense(16, activation = 'relu'),\n",
    "    #droput function\n",
    "        tf.keras.layers.Dropout(0.2),\n",
    "    #2nd dense layer with 16 units\n",
    "        tf.keras.layers.Dense(16, activation = 'relu'),\n",
    "    #output layer with acitvation function as sigmoid\n",
    "        tf.keras.layers.Dense(1, activation = 'sigmoid')    \n",
    "])\n",
    "#Compiling model on adam optimizer and loss as binary crossentropy\n",
    "model.compile(optimizer = 'Adam',\n",
    "                loss = 'binary_crossentropy',\n",
    "                metrics=['accuracy'])"
   ]
  },
  {
   "cell_type": "markdown",
   "id": "7338a0d2",
   "metadata": {},
   "source": [
    "**MODEL EVALUATION**"
   ]
  },
  {
   "cell_type": "code",
   "execution_count": 58,
   "id": "178c8317",
   "metadata": {},
   "outputs": [
    {
     "name": "stdout",
     "output_type": "stream",
     "text": [
      "Epoch 1/15\n",
      "2/2 [==============================] - 0s 97ms/step - loss: 0.9198 - accuracy: 0.7632 - val_loss: 0.2174 - val_accuracy: 0.9000\n",
      "Epoch 2/15\n",
      "2/2 [==============================] - 0s 39ms/step - loss: 1.2831 - accuracy: 0.7632 - val_loss: 0.2081 - val_accuracy: 0.9000\n",
      "Epoch 3/15\n",
      "2/2 [==============================] - 0s 41ms/step - loss: 0.9309 - accuracy: 0.7895 - val_loss: 0.2085 - val_accuracy: 0.9000\n",
      "Epoch 4/15\n",
      "2/2 [==============================] - 0s 36ms/step - loss: 0.3950 - accuracy: 0.8158 - val_loss: 0.2101 - val_accuracy: 0.9000\n",
      "Epoch 5/15\n",
      "2/2 [==============================] - 0s 47ms/step - loss: 0.2676 - accuracy: 0.8421 - val_loss: 0.2146 - val_accuracy: 0.9000\n",
      "Epoch 6/15\n",
      "2/2 [==============================] - 0s 36ms/step - loss: 0.4226 - accuracy: 0.9474 - val_loss: 0.2169 - val_accuracy: 0.9000\n",
      "Epoch 7/15\n",
      "2/2 [==============================] - 0s 35ms/step - loss: 0.2143 - accuracy: 0.8684 - val_loss: 0.2150 - val_accuracy: 0.9000\n",
      "Epoch 8/15\n",
      "2/2 [==============================] - 0s 41ms/step - loss: 0.8068 - accuracy: 0.7895 - val_loss: 0.2158 - val_accuracy: 0.9000\n",
      "Epoch 9/15\n",
      "2/2 [==============================] - 0s 37ms/step - loss: 0.2709 - accuracy: 0.8947 - val_loss: 0.2149 - val_accuracy: 0.9000\n",
      "Epoch 10/15\n",
      "2/2 [==============================] - 0s 39ms/step - loss: 0.7252 - accuracy: 0.8158 - val_loss: 0.2081 - val_accuracy: 0.9000\n",
      "Epoch 11/15\n",
      "2/2 [==============================] - 0s 34ms/step - loss: 0.2673 - accuracy: 0.8947 - val_loss: 0.2057 - val_accuracy: 0.9000\n",
      "Epoch 12/15\n",
      "2/2 [==============================] - 0s 35ms/step - loss: 0.6114 - accuracy: 0.8158 - val_loss: 0.2090 - val_accuracy: 0.9000\n",
      "Epoch 13/15\n",
      "2/2 [==============================] - 0s 44ms/step - loss: 1.0536 - accuracy: 0.8158 - val_loss: 0.2276 - val_accuracy: 0.9000\n",
      "Epoch 14/15\n",
      "2/2 [==============================] - 0s 39ms/step - loss: 0.4345 - accuracy: 0.8947 - val_loss: 0.2561 - val_accuracy: 0.9000\n",
      "Epoch 15/15\n",
      "2/2 [==============================] - 0s 34ms/step - loss: 0.2275 - accuracy: 0.8947 - val_loss: 0.2804 - val_accuracy: 0.9000\n"
     ]
    }
   ],
   "source": [
    "history1 = model.fit(X_train, Y_train, epochs = 15, validation_data = (X_test,Y_test))"
   ]
  },
  {
   "cell_type": "markdown",
   "id": "d04128a9",
   "metadata": {},
   "source": [
    "***Loss and Accuracy curves***"
   ]
  },
  {
   "cell_type": "code",
   "execution_count": 59,
   "id": "65e252ca",
   "metadata": {},
   "outputs": [
    {
     "data": {
      "image/png": "[encoded data removed]",
      "text/plain": [
       "<Figure size 432x288 with 1 Axes>"
      ]
     },
     "metadata": {
      "needs_background": "light"
     },
     "output_type": "display_data"
    },
    {
     "data": {
      "image/png": "[encoded data removed]",
      "text/plain": [
       "<Figure size 432x288 with 1 Axes>"
      ]
     },
     "metadata": {
      "needs_background": "light"
     },
     "output_type": "display_data"
    }
   ],
   "source": [
    "plot_loss(history1.history['loss'], history1.history['val_loss'])\n",
    "# Plot train vs test accuracy during training\n",
    "plot_accuracy(history1.history['accuracy'], history1.history['val_accuracy'])"
   ]
  },
  {
   "cell_type": "markdown",
   "id": "436c0f43",
   "metadata": {},
   "source": [
    "***Train and test metrics***"
   ]
  },
  {
   "cell_type": "code",
   "execution_count": 60,
   "id": "578de549",
   "metadata": {},
   "outputs": [
    {
     "name": "stdout",
     "output_type": "stream",
     "text": [
      "train loss, train acc: [0.09447011351585388, 0.9736841917037964]\n",
      "test loss, test acc: [0.2804188132286072, 0.8999999761581421]\n"
     ]
    }
   ],
   "source": [
    "results = model.evaluate(X_train, Y_train,verbose=0)\n",
    "print(\"train loss, train acc:\", results)\n",
    "results = model.evaluate(X_test, Y_test,verbose=0)\n",
    "print(\"test loss, test acc:\", results)"
   ]
  },
  {
   "cell_type": "markdown",
   "id": "4e94190f",
   "metadata": {},
   "source": [
    "***Saving model weights and biases***"
   ]
  },
  {
   "cell_type": "code",
   "execution_count": 62,
   "id": "4fee3639",
   "metadata": {},
   "outputs": [
    {
     "name": "stdout",
     "output_type": "stream",
     "text": [
      "(32,) (16,)\n",
      "(256,) (16,)\n",
      "(16,) (1,)\n"
     ]
    }
   ],
   "source": [
    "from keras.layers import Dense, Dropout, Activation, Flatten\n",
    "wt = open('weights1.csv', 'w')\n",
    "bs = open('biases1.csv', 'w')\n",
    "for idx,i in enumerate(model.layers):\n",
    "  if(isinstance(i, Dense)):\n",
    "    weights = i.get_weights()[0]\n",
    "    biases = i.get_weights()[1]\n",
    "    weights = weights.flatten()\n",
    "    biases = biases.flatten()\n",
    "    print(weights.shape, biases.shape)\n",
    "    wt.write(','.join(map(str,weights.tolist()))+\"\\n\")\n",
    "    bs.write(','.join(map(str,biases.tolist()))+\"\\n\")"
   ]
  },
  {
   "cell_type": "markdown",
   "id": "9f1ed4d0",
   "metadata": {},
   "source": [
    "Normal heart rate: 60-100\n",
    "Normal sys BP: 100-120\n",
    "\n",
    "\n",
    "\n",
    "***Predicting new values***"
   ]
  },
  {
   "cell_type": "code",
   "execution_count": 80,
   "id": "1f72d9a1",
   "metadata": {},
   "outputs": [
    {
     "name": "stdout",
     "output_type": "stream",
     "text": [
      "1/1 [==============================] - 0s 24ms/step\n",
      "Patient seems normal\n"
     ]
    }
   ],
   "source": [
    "y = [100, 120]\n",
    "y = np.array(y)\n",
    "y = y.reshape(1, 2)\n",
    "y = pd.DataFrame(y, columns =['Heart_Rate', 'Systolic_blood_pressure(SBP)'])\n",
    "prediction = model.predict(y, verbose=1)\n",
    "if prediction > 0.5:\n",
    "    print(\"Patient needs intensive care\")\n",
    "else:\n",
    "    print(\"Patient seems normal\")\n",
    "#print(prediction)"
   ]
  },
  {
   "cell_type": "markdown",
   "id": "15863235",
   "metadata": {},
   "source": [
    "***MODEL 2 (Implementing keras tuner)***\n",
    "\n",
    "1. Implementing keras tuner with 3 choices each for optimizer and learning rate.\n",
    "2. Specifying min and max value for units in the dense layer.\n"
   ]
  },
  {
   "cell_type": "code",
   "execution_count": 63,
   "id": "da3db35d",
   "metadata": {},
   "outputs": [],
   "source": [
    "import keras_tuner\n",
    "from tensorflow import keras"
   ]
  },
  {
   "cell_type": "code",
   "execution_count": 64,
   "id": "5115253b",
   "metadata": {},
   "outputs": [],
   "source": [
    "def model_builder(hp):\n",
    "  model = keras.Sequential()\n",
    "  # Tune the number of units in the first Dense layer\n",
    "  # Choose an optimal value between 32-512\n",
    "  hp_units = hp.Int('units', min_value=8, max_value=256, step=16)\n",
    "  model.add(keras.layers.Dense(units=hp_units, activation='relu'))\n",
    "  model.add(keras.layers.Dropout(0.2))\n",
    "  model.add(keras.layers.Dense(1, activation = 'sigmoid'))\n",
    "\n",
    "  # Tune the learning rate for the optimizer\n",
    "  # Choose an optimal value from 0.01, 0.001, or 0.0001\n",
    "  # Choose an optimal optimizer from Adam, RMSprop, SGD\n",
    "  hp_learning_rate = hp.Choice('learning_rate', \n",
    "                                 values=[1e-2, 1e-3, 1e-4])\n",
    "  hp_optimizers = hp.Choice('optimizer', values=['Adam', 'RMSprop', 'SGD'])\n",
    "\n",
    "  model.compile(\n",
    "        hp_optimizers, loss=\"binary_crossentropy\", metrics=[\"accuracy\"]\n",
    "    )\n",
    "  return model"
   ]
  },
  {
   "cell_type": "code",
   "execution_count": 81,
   "id": "affc2dd8",
   "metadata": {},
   "outputs": [
    {
     "name": "stdout",
     "output_type": "stream",
     "text": [
      "Collecting tensorflow_addons\n",
      "  Downloading tensorflow_addons-0.19.0-cp39-cp39-win_amd64.whl (742 kB)\n",
      "     -------------------------------------- 742.5/742.5 kB 5.9 MB/s eta 0:00:00\n",
      "Requirement already satisfied: packaging in c:\\users\\vibhav\\anaconda3\\lib\\site-packages (from tensorflow_addons) (21.3)\n",
      "Collecting typeguard>=2.7\n",
      "  Downloading typeguard-2.13.3-py3-none-any.whl (17 kB)\n",
      "Requirement already satisfied: pyparsing!=3.0.5,>=2.0.2 in c:\\users\\vibhav\\anaconda3\\lib\\site-packages (from packaging->tensorflow_addons) (3.0.4)\n",
      "Installing collected packages: typeguard, tensorflow_addons\n",
      "Successfully installed tensorflow_addons-0.19.0 typeguard-2.13.3\n"
     ]
    },
    {
     "name": "stderr",
     "output_type": "stream",
     "text": [
      "\n",
      "[notice] A new release of pip available: 22.3.1 -> 23.0.1\n",
      "[notice] To update, run: python.exe -m pip install --upgrade pip\n"
     ]
    }
   ],
   "source": [
    "!pip install tensorflow_addons"
   ]
  },
  {
   "cell_type": "markdown",
   "id": "a3f33bde",
   "metadata": {},
   "source": [
    "***Using Hyperband for the tuner***"
   ]
  },
  {
   "cell_type": "code",
   "execution_count": 74,
   "id": "0d1a80f4",
   "metadata": {},
   "outputs": [],
   "source": [
    "import keras_tuner as kt\n",
    "import tensorflow_addons as tfa\n",
    "tuner = kt.Hyperband(model_builder,\n",
    "                     objective='val_accuracy',\n",
    "                     max_epochs=10,\n",
    "                     factor=3,\n",
    "                     overwrite=True,\n",
    "                     directory='my_dir')"
   ]
  },
  {
   "cell_type": "markdown",
   "id": "37633911",
   "metadata": {},
   "source": [
    "**MODEL EVALUATION**\n",
    "\n",
    "\n",
    "***Searching for the best hyperparameters***"
   ]
  },
  {
   "cell_type": "code",
   "execution_count": 75,
   "id": "2f6caa3e",
   "metadata": {},
   "outputs": [
    {
     "name": "stdout",
     "output_type": "stream",
     "text": [
      "Trial 30 Complete [00h 00m 01s]\n",
      "val_accuracy: 1.0\n",
      "\n",
      "Best val_accuracy So Far: 1.0\n",
      "Total elapsed time: 00h 00m 37s\n",
      "INFO:tensorflow:Oracle triggered exit\n",
      "WARNING:tensorflow:Detecting that an object or model or tf.train.Checkpoint is being deleted with unrestored values. See the following logs for the specific values in question. To silence these warnings, use `status.expect_partial()`. See https://www.tensorflow.org/api_docs/python/tf/train/Checkpoint#restorefor details about the status object returned by the restore function.\n",
      "WARNING:tensorflow:Value in checkpoint could not be found in the restored object: (root).layer_with_weights-0.kernel\n",
      "WARNING:tensorflow:Value in checkpoint could not be found in the restored object: (root).layer_with_weights-0.bias\n",
      "WARNING:tensorflow:Value in checkpoint could not be found in the restored object: (root).layer_with_weights-1.kernel\n",
      "WARNING:tensorflow:Value in checkpoint could not be found in the restored object: (root).layer_with_weights-1.bias\n",
      "WARNING:tensorflow:Value in checkpoint could not be found in the restored object: (root).optimizer._variables.1\n",
      "WARNING:tensorflow:Value in checkpoint could not be found in the restored object: (root).optimizer._variables.2\n",
      "WARNING:tensorflow:Value in checkpoint could not be found in the restored object: (root).optimizer._variables.3\n",
      "WARNING:tensorflow:Value in checkpoint could not be found in the restored object: (root).optimizer._variables.4\n",
      "{'units': 184, 'learning_rate': 0.001, 'optimizer': 'SGD', 'tuner/epochs': 2, 'tuner/initial_epoch': 0, 'tuner/bracket': 2, 'tuner/round': 0}\n"
     ]
    }
   ],
   "source": [
    "tuner.search(X, Y, epochs=10, validation_split = 0.2)\n",
    "best_model = tuner.get_best_models()[0]\n",
    "#best_model.summary()\n",
    "best_hps=tuner.get_best_hyperparameters()[0]\n",
    "print(best_hps.values)"
   ]
  },
  {
   "cell_type": "code",
   "execution_count": 76,
   "id": "673caafc",
   "metadata": {},
   "outputs": [
    {
     "name": "stdout",
     "output_type": "stream",
     "text": [
      "Results summary\n",
      "Results in my_dir\\untitled_project\n",
      "Showing 10 best trials\n",
      "<keras_tuner.engine.objective.Objective object at 0x000001E66B795E80>\n",
      "Trial summary\n",
      "Hyperparameters:\n",
      "units: 184\n",
      "learning_rate: 0.001\n",
      "optimizer: SGD\n",
      "tuner/epochs: 2\n",
      "tuner/initial_epoch: 0\n",
      "tuner/bracket: 2\n",
      "tuner/round: 0\n",
      "Score: 1.0\n",
      "Trial summary\n",
      "Hyperparameters:\n",
      "units: 232\n",
      "learning_rate: 0.01\n",
      "optimizer: Adam\n",
      "tuner/epochs: 2\n",
      "tuner/initial_epoch: 0\n",
      "tuner/bracket: 2\n",
      "tuner/round: 0\n",
      "Score: 1.0\n",
      "Trial summary\n",
      "Hyperparameters:\n",
      "units: 200\n",
      "learning_rate: 0.001\n",
      "optimizer: SGD\n",
      "tuner/epochs: 2\n",
      "tuner/initial_epoch: 0\n",
      "tuner/bracket: 2\n",
      "tuner/round: 0\n",
      "Score: 1.0\n",
      "Trial summary\n",
      "Hyperparameters:\n",
      "units: 104\n",
      "learning_rate: 0.01\n",
      "optimizer: Adam\n",
      "tuner/epochs: 2\n",
      "tuner/initial_epoch: 0\n",
      "tuner/bracket: 2\n",
      "tuner/round: 0\n",
      "Score: 1.0\n",
      "Trial summary\n",
      "Hyperparameters:\n",
      "units: 232\n",
      "learning_rate: 0.01\n",
      "optimizer: Adam\n",
      "tuner/epochs: 4\n",
      "tuner/initial_epoch: 2\n",
      "tuner/bracket: 2\n",
      "tuner/round: 1\n",
      "tuner/trial_id: 0003\n",
      "Score: 1.0\n",
      "Trial summary\n",
      "Hyperparameters:\n",
      "units: 200\n",
      "learning_rate: 0.001\n",
      "optimizer: SGD\n",
      "tuner/epochs: 4\n",
      "tuner/initial_epoch: 2\n",
      "tuner/bracket: 2\n",
      "tuner/round: 1\n",
      "tuner/trial_id: 0005\n",
      "Score: 1.0\n",
      "Trial summary\n",
      "Hyperparameters:\n",
      "units: 104\n",
      "learning_rate: 0.01\n",
      "optimizer: Adam\n",
      "tuner/epochs: 4\n",
      "tuner/initial_epoch: 2\n",
      "tuner/bracket: 2\n",
      "tuner/round: 1\n",
      "tuner/trial_id: 0010\n",
      "Score: 1.0\n",
      "Trial summary\n",
      "Hyperparameters:\n",
      "units: 232\n",
      "learning_rate: 0.01\n",
      "optimizer: Adam\n",
      "tuner/epochs: 10\n",
      "tuner/initial_epoch: 4\n",
      "tuner/bracket: 2\n",
      "tuner/round: 2\n",
      "tuner/trial_id: 0013\n",
      "Score: 1.0\n",
      "Trial summary\n",
      "Hyperparameters:\n",
      "units: 200\n",
      "learning_rate: 0.001\n",
      "optimizer: SGD\n",
      "tuner/epochs: 10\n",
      "tuner/initial_epoch: 4\n",
      "tuner/bracket: 2\n",
      "tuner/round: 2\n",
      "tuner/trial_id: 0014\n",
      "Score: 1.0\n",
      "Trial summary\n",
      "Hyperparameters:\n",
      "units: 200\n",
      "learning_rate: 0.01\n",
      "optimizer: Adam\n",
      "tuner/epochs: 4\n",
      "tuner/initial_epoch: 0\n",
      "tuner/bracket: 1\n",
      "tuner/round: 0\n",
      "Score: 1.0\n"
     ]
    }
   ],
   "source": [
    "tuner.results_summary()"
   ]
  },
  {
   "cell_type": "code",
   "execution_count": 14,
   "id": "5217cb9f",
   "metadata": {},
   "outputs": [
    {
     "data": {
      "text/plain": [
       "(48, 2)"
      ]
     },
     "execution_count": 14,
     "metadata": {},
     "output_type": "execute_result"
    }
   ],
   "source": [
    "X.shape"
   ]
  },
  {
   "cell_type": "code",
   "execution_count": 77,
   "id": "021cb1f5",
   "metadata": {},
   "outputs": [],
   "source": [
    "#Building model with best hyperparameters from tuner\n",
    "model = tuner.hypermodel.build(best_hps)"
   ]
  },
  {
   "cell_type": "code",
   "execution_count": 85,
   "id": "66c8f61d",
   "metadata": {},
   "outputs": [
    {
     "name": "stdout",
     "output_type": "stream",
     "text": [
      "Epoch 1/15\n",
      "2/2 [==============================] - 0s 83ms/step - loss: 0.0796 - accuracy: 0.9474 - val_loss: 0.0764 - val_accuracy: 1.0000\n",
      "Epoch 2/15\n",
      "2/2 [==============================] - 0s 32ms/step - loss: 0.0415 - accuracy: 0.9737 - val_loss: 0.0713 - val_accuracy: 1.0000\n",
      "Epoch 3/15\n",
      "2/2 [==============================] - 0s 38ms/step - loss: 0.0618 - accuracy: 0.9737 - val_loss: 0.0317 - val_accuracy: 1.0000\n",
      "Epoch 4/15\n",
      "2/2 [==============================] - 0s 34ms/step - loss: 0.2567 - accuracy: 0.9211 - val_loss: 0.1235 - val_accuracy: 0.9000\n",
      "Epoch 5/15\n",
      "2/2 [==============================] - 0s 32ms/step - loss: 0.0266 - accuracy: 1.0000 - val_loss: 0.0870 - val_accuracy: 1.0000\n",
      "Epoch 6/15\n",
      "2/2 [==============================] - 0s 37ms/step - loss: 0.0892 - accuracy: 0.9474 - val_loss: 0.1146 - val_accuracy: 0.9000\n",
      "Epoch 7/15\n",
      "2/2 [==============================] - 0s 33ms/step - loss: 0.0364 - accuracy: 0.9737 - val_loss: 0.0456 - val_accuracy: 1.0000\n",
      "Epoch 8/15\n",
      "2/2 [==============================] - 0s 40ms/step - loss: 0.0358 - accuracy: 0.9737 - val_loss: 0.0655 - val_accuracy: 1.0000\n",
      "Epoch 9/15\n",
      "2/2 [==============================] - 0s 34ms/step - loss: 0.0487 - accuracy: 0.9737 - val_loss: 0.0552 - val_accuracy: 1.0000\n",
      "Epoch 10/15\n",
      "2/2 [==============================] - 0s 34ms/step - loss: 0.0314 - accuracy: 1.0000 - val_loss: 0.0436 - val_accuracy: 1.0000\n",
      "Epoch 11/15\n",
      "2/2 [==============================] - 0s 35ms/step - loss: 0.0338 - accuracy: 1.0000 - val_loss: 0.7072 - val_accuracy: 0.7000\n",
      "Epoch 12/15\n",
      "2/2 [==============================] - 0s 36ms/step - loss: 0.2055 - accuracy: 0.9474 - val_loss: 0.1632 - val_accuracy: 0.9000\n",
      "Epoch 13/15\n",
      "2/2 [==============================] - 0s 35ms/step - loss: 0.0798 - accuracy: 0.9737 - val_loss: 0.0368 - val_accuracy: 1.0000\n",
      "Epoch 14/15\n",
      "2/2 [==============================] - 0s 35ms/step - loss: 0.0655 - accuracy: 0.9474 - val_loss: 0.7592 - val_accuracy: 0.7000\n",
      "Epoch 15/15\n",
      "2/2 [==============================] - 0s 42ms/step - loss: 0.1696 - accuracy: 0.9474 - val_loss: 0.3529 - val_accuracy: 0.9000\n"
     ]
    }
   ],
   "source": [
    "history2 = model.fit(X_train, Y_train, epochs = 15, validation_data = (X_test,Y_test))"
   ]
  },
  {
   "cell_type": "markdown",
   "id": "48f675c2",
   "metadata": {},
   "source": [
    "***Training and test metrics***"
   ]
  },
  {
   "cell_type": "code",
   "execution_count": 86,
   "id": "23969236",
   "metadata": {},
   "outputs": [
    {
     "name": "stdout",
     "output_type": "stream",
     "text": [
      "train loss, train acc: [0.8209469318389893, 0.8157894611358643]\n",
      "test loss, test acc: [0.35290461778640747, 0.8999999761581421]\n"
     ]
    }
   ],
   "source": [
    "results = model.evaluate(X_train, Y_train,verbose=0)\n",
    "print(\"train loss, train acc:\", results)\n",
    "results = model.evaluate(X_test, Y_test,verbose=0)\n",
    "print(\"test loss, test acc:\", results)"
   ]
  },
  {
   "cell_type": "markdown",
   "id": "3cdf2991",
   "metadata": {},
   "source": [
    "***Plotting loss and accuracy curves***"
   ]
  },
  {
   "cell_type": "code",
   "execution_count": 87,
   "id": "bf1c46a3",
   "metadata": {},
   "outputs": [
    {
     "data": {
      "image/png": "[encoded data removed]",
      "text/plain": [
       "<Figure size 432x288 with 1 Axes>"
      ]
     },
     "metadata": {
      "needs_background": "light"
     },
     "output_type": "display_data"
    },
    {
     "data": {
      "image/png": "[encoded data removed]",
      "text/plain": [
       "<Figure size 432x288 with 1 Axes>"
      ]
     },
     "metadata": {
      "needs_background": "light"
     },
     "output_type": "display_data"
    }
   ],
   "source": [
    "plot_loss(history1.history['loss'], history1.history['val_loss'])\n",
    "# Plot train vs test accuracy during training\n",
    "plot_accuracy(history1.history['accuracy'], history1.history['val_accuracy'])"
   ]
  },
  {
   "cell_type": "markdown",
   "id": "24a1830b",
   "metadata": {},
   "source": [
    "***Saving model weights and biases***"
   ]
  },
  {
   "cell_type": "code",
   "execution_count": 88,
   "id": "10725c5f",
   "metadata": {},
   "outputs": [
    {
     "name": "stdout",
     "output_type": "stream",
     "text": [
      "(368,) (184,)\n",
      "(184,) (1,)\n"
     ]
    }
   ],
   "source": [
    "wt = open('weights2.csv', 'w')\n",
    "bs = open('biases2.csv', 'w')\n",
    "for idx,i in enumerate(model.layers):\n",
    "  if(isinstance(i, Dense)):\n",
    "    weights = i.get_weights()[0]\n",
    "    biases = i.get_weights()[1]\n",
    "    weights = weights.flatten()\n",
    "    biases = biases.flatten()\n",
    "    print(weights.shape, biases.shape)\n",
    "    wt.write(','.join(map(str,weights.tolist()))+\"\\n\")\n",
    "    bs.write(','.join(map(str,biases.tolist()))+\"\\n\")"
   ]
  },
  {
   "cell_type": "markdown",
   "id": "61aa2dcb",
   "metadata": {},
   "source": [
    "**ISSUES/IMPROVEMENT**\n",
    "\n",
    "1. Dataset is very small.\n",
    "2. DNN models are overfitting on the data."
   ]
  }
 ],
 "metadata": {
  "kernelspec": {
   "display_name": "Python 3 (ipykernel)",
   "language": "python",
   "name": "python3"
  },
  "language_info": {
   "codemirror_mode": {
    "name": "ipython",
    "version": 3
   },
   "file_extension": ".py",
   "mimetype": "text/x-python",
   "name": "python",
   "nbconvert_exporter": "python",
   "pygments_lexer": "ipython3",
   "version": "3.9.12"
  }
 },
 "nbformat": 4,
 "nbformat_minor": 5
}
